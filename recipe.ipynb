{
 "cells": [
  {
   "cell_type": "code",
   "execution_count": 9,
   "metadata": {},
   "outputs": [],
   "source": [
    "import pandas as pd\n",
    "import ast\n",
    "import spacy"
   ]
  },
  {
   "cell_type": "code",
   "execution_count": 10,
   "metadata": {},
   "outputs": [
    {
     "data": {
      "application/vnd.microsoft.datawrangler.viewer.v0+json": {
       "columns": [
        {
         "name": "index",
         "rawType": "int64",
         "type": "integer"
        },
        {
         "name": "Row",
         "rawType": "int64",
         "type": "integer"
        },
        {
         "name": "Name",
         "rawType": "object",
         "type": "string"
        },
        {
         "name": "Prep Time",
         "rawType": "object",
         "type": "string"
        },
        {
         "name": "Cook Time",
         "rawType": "object",
         "type": "string"
        },
        {
         "name": "Total Time",
         "rawType": "object",
         "type": "string"
        },
        {
         "name": "Servings",
         "rawType": "int64",
         "type": "integer"
        },
        {
         "name": "Yield",
         "rawType": "object",
         "type": "unknown"
        },
        {
         "name": "Ingredients",
         "rawType": "object",
         "type": "string"
        },
        {
         "name": "Directions",
         "rawType": "object",
         "type": "string"
        },
        {
         "name": "url",
         "rawType": "object",
         "type": "string"
        },
        {
         "name": "Additional Time",
         "rawType": "object",
         "type": "unknown"
        }
       ],
       "conversionMethod": "pd.DataFrame",
       "ref": "1b9447b8-9758-4a1e-8d69-bc5ed1a8d609",
       "rows": [
        [
         "0",
         "0",
         "Indian Chicken Curry (Murgh Kari)",
         "20 mins",
         "40 mins",
         "1 hrs",
         "6",
         "6 servings",
         "[{'quantity': '2', 'unit': 'pounds', 'name': 'skinless, boneless chicken breast halves'}, {'quantity': '2', 'unit': 'teaspoons', 'name': 'salt'}, {'quantity': '½', 'unit': 'cup', 'name': 'cooking oil'}, {'quantity': '1 ½', 'unit': 'cups', 'name': 'chopped onion'}, {'quantity': '1', 'unit': 'tablespoon', 'name': 'minced garlic'}, {'quantity': '1 ½', 'unit': 'teaspoons', 'name': 'minced fresh ginger root'}, {'quantity': '1', 'unit': 'tablespoon', 'name': 'curry powder'}, {'quantity': '1', 'unit': 'teaspoon', 'name': 'ground cumin'}, {'quantity': '1', 'unit': 'teaspoon', 'name': 'ground turmeric'}, {'quantity': '1', 'unit': 'teaspoon', 'name': 'ground coriander'}, {'quantity': '1', 'unit': 'teaspoon', 'name': 'cayenne pepper'}, {'quantity': '1', 'unit': 'tablespoon', 'name': 'water'}, {'quantity': '1', 'unit': '(15 ounce) can', 'name': 'crushed tomatoes'}, {'quantity': '1', 'unit': 'cup', 'name': 'plain yogurt'}, {'quantity': '1', 'unit': 'tablespoon', 'name': 'chopped fresh cilantro'}, {'quantity': '1', 'unit': 'teaspoon', 'name': 'salt'}, {'quantity': '½', 'unit': 'cup', 'name': 'water'}, {'quantity': '1', 'unit': 'teaspoon', 'name': 'garam masala'}, {'quantity': '1', 'unit': 'tablespoon', 'name': 'chopped fresh cilantro'}, {'quantity': '1', 'unit': 'tablespoon', 'name': 'fresh lemon juice'}]",
         "['Sprinkle the chicken breasts with 2 teaspoons salt.', 'Heat oil in a large skillet over high heat; partially cook the chicken in the hot oil in batches until completely browned on all sides. Transfer browned chicken breasts to a plate and set aside.', 'Reduce the heat to medium and add onion, garlic, and ginger to the oil remaining in the skillet. Cook and stir until onion turns soft and translucent, 5 to 8 minutes. Stir curry powder, cumin, turmeric, coriander, cayenne, and 1 tablespoon of water into the onion mixture; allow to heat together for about 1 minute while stirring. Add tomatoes, yogurt, 1 tablespoon chopped cilantro, and 1 teaspoon salt to the mixture; stir to combine.', 'Return chicken breast to the skillet along with any juices on the plate. Pour in 1/2 cup water and bring to a boil, turning the chicken to coat with the sauce. Sprinkle garam masala and 1 tablespoon cilantro over the chicken.', 'Cover the skillet and simmer until chicken breasts are no longer pink in the center and the juices run clear, about 20 minutes. An instant-read thermometer inserted into the center should read at least 165 degrees F (74 degrees C). Drizzle with lemon juice to serve.', 'Dotdash Meredith Food Studio']",
         "https://www.allrecipes.com/recipe/212721/indian-chicken-curry-murgh-kari/",
         null
        ],
        [
         "1",
         "1",
         "Chicken Stir-Fry",
         "20 mins",
         "20 mins",
         "40 mins",
         "6",
         null,
         "[{'quantity': '4', 'unit': 'cups', 'name': 'water'}, {'quantity': '2', 'unit': 'cups', 'name': 'white rice'}, {'quantity': '⅔', 'unit': 'cup', 'name': 'soy sauce'}, {'quantity': '¼', 'unit': 'cup', 'name': 'brown sugar'}, {'quantity': '1', 'unit': 'tablespoon', 'name': 'cornstarch'}, {'quantity': '1', 'unit': 'tablespoon', 'name': 'minced fresh ginger'}, {'quantity': '1', 'unit': 'tablespoon', 'name': 'minced garlic'}, {'quantity': '¼', 'unit': 'teaspoon', 'name': 'red pepper flakes'}, {'quantity': '3', 'unit': '', 'name': 'skinless, boneless chicken breast halves, thinly sliced'}, {'quantity': '2', 'unit': 'tablespoons', 'name': 'sesame oil, divided'}, {'quantity': '1', 'unit': 'head', 'name': 'broccoli, broken into florets'}, {'quantity': '1', 'unit': '', 'name': 'onion, cut into large chunks'}, {'quantity': '1', 'unit': 'cup', 'name': 'sliced carrots'}, {'quantity': '1', 'unit': '(8 ounce) can', 'name': 'sliced water chestnuts, drained'}, {'quantity': '1', 'unit': '', 'name': 'green bell pepper, cut into matchsticks'}]",
         "['Bring water and rice to a boil in a saucepan over high heat. Reduce heat to medium-low, cover, and simmer until rice is tender, and liquid has been absorbed, 20 to 25 minutes.', 'Meanwhile, combine soy sauce, brown sugar, and cornstarch in a medium glass or ceramic bowl; stir until smooth. Stir in ginger, garlic, and red pepper flakes; add chicken and stir to coat. Cover and marinate in the refrigerator for at least 15 minutes.', 'Heat 1 tablespoon sesame oil in a wok or large skillet over medium-high heat. Add broccoli, onion, carrots, water chestnuts, and bell pepper; cook and stir until just tender, about 5 minutes. Transfer vegetables into a dish; set aside.', 'Heat remaining 1 tablespoon sesame oil in the same wok or skillet over medium-high heat. Add chicken, reserving marinade, and cook until just browned, about 2 minutes per side; stir in vegetables and reserved marinade. Bring to a boil; cook and stir until chicken is no longer pink in the center and vegetables are tender, 5 to 7 minutes. Serve over rice.', 'Rita']",
         "https://www.allrecipes.com/recipe/223382/chicken-stir-fry/",
         null
        ],
        [
         "2",
         "2",
         "Jambalaya",
         "20 mins",
         "45 mins",
         "1 hrs 5 mins",
         "6",
         "6 servings",
         "[{'quantity': '2', 'unit': 'tablespoons', 'name': 'peanut oil, divided'}, {'quantity': '1', 'unit': 'tablespoon', 'name': 'Cajun seasoning'}, {'quantity': '10', 'unit': 'ounces', 'name': 'andouille sausage, sliced into rounds'}, {'quantity': '1', 'unit': 'pound', 'name': 'boneless skinless chicken breasts, cut into 1 inch pieces'}, {'quantity': '1', 'unit': '', 'name': 'onion, diced'}, {'quantity': '1', 'unit': 'small', 'name': 'green bell pepper, diced'}, {'quantity': '2', 'unit': 'stalks', 'name': 'celery, diced'}, {'quantity': '3', 'unit': 'cloves', 'name': 'garlic, minced'}, {'quantity': '1', 'unit': '(16 ounce) can', 'name': 'crushed Italian tomatoes'}, {'quantity': '½', 'unit': 'teaspoon', 'name': 'red pepper flakes'}, {'quantity': '½', 'unit': 'teaspoon', 'name': 'ground black pepper'}, {'quantity': '1', 'unit': 'teaspoon', 'name': 'salt'}, {'quantity': '½', 'unit': 'teaspoon', 'name': 'hot pepper sauce'}, {'quantity': '2', 'unit': 'teaspoons', 'name': 'Worcestershire sauce'}, {'quantity': '1', 'unit': 'teaspoon', 'name': 'file powder'}, {'quantity': '1 ¼', 'unit': 'cups', 'name': 'uncooked white rice'}, {'quantity': '2 ½', 'unit': 'cups', 'name': 'chicken broth'}]",
         "['Heat 1 tablespoon of peanut oil in a large heavy Dutch oven over medium heat. Season the sausage and chicken pieces with Cajun seasoning. Saute sausage until browned. Remove with slotted spoon, and set aside. Add 1 tablespoon peanut oil, and saute chicken pieces until lightly browned on all sides. Remove with a slotted spoon, and set aside.', 'In the same pot, saute onion, bell pepper, celery and garlic until tender. Stir in crushed tomatoes, and season with red pepper, black pepper, salt, hot pepper sauce, Worcestershire sauce and file powder. Stir in chicken and sausage. Cook for 10 minutes, stirring occasionally.', 'Stir in the rice and chicken broth. Bring to a boil, reduce heat, and simmer for 20 to 25 minutes, or until liquid is absorbed.', 'Meredith']",
         "https://www.allrecipes.com/recipe/31848/jambalaya/",
         null
        ],
        [
         "3",
         "3",
         "Chicken Katsu",
         "10 mins",
         "10 mins",
         "20 mins",
         "4",
         "4 servings",
         "[{'quantity': '4', 'unit': '', 'name': 'skinless, boneless chicken breast halves - pounded to 1/2 inch thickness'}, {'quantity': '', 'unit': '', 'name': 'salt and pepper to taste'}, {'quantity': '2', 'unit': 'tablespoons', 'name': 'all-purpose flour'}, {'quantity': '1', 'unit': '', 'name': 'egg, beaten'}, {'quantity': '1', 'unit': 'cup', 'name': 'panko bread crumbs'}, {'quantity': '1', 'unit': 'cup', 'name': 'oil for frying, or as needed'}]",
         "['Season the chicken breasts on both sides with salt and pepper. Place the flour, egg and panko crumbs into separate shallow dishes. Coat the chicken breasts in flour, shaking off any excess. Dip them into the egg, and then press into the panko crumbs until well coated on both sides.', 'Heat 1/4 inch of oil in a large skillet over medium-high heat. Place chicken in the hot oil, and cook 3 or 4 minutes per side, or until golden brown.', 'Mitsuha Kirigaija', \"   Editor's Note:  \", 'Try serving this with Japanese salad dressing for dipping.']",
         "https://www.allrecipes.com/recipe/72068/chicken-katsu/",
         null
        ],
        [
         "4",
         "4",
         "Simple Baked Chicken Breasts",
         "10 mins",
         "25 mins",
         "35 mins",
         "4",
         null,
         "[{'quantity': '4', 'unit': '(5 ounce)', 'name': 'skinless, boneless chicken breast halves'}, {'quantity': '2', 'unit': 'tablespoons', 'name': 'olive oil'}, {'quantity': '½', 'unit': 'teaspoon', 'name': 'coarse sea salt, or to taste'}, {'quantity': '1', 'unit': 'pinch', 'name': \"Creole seasoning (such as Tony Chachere's®), or more to taste\"}, {'quantity': '1', 'unit': 'tablespoon', 'name': 'chicken broth, or more to taste'}]",
         "['Preheat the oven to 400 degrees F (200 degrees C).', 'Rub chicken breasts with olive oil and sprinkle both sides with salt and Creole seasoning. Place chicken in a broiler pan.', 'Bake in the preheated oven for 10 minutes. Flip chicken and cook until no longer pink in the center and the juices run clear, about 15 minutes more. An instant-read thermometer inserted into the center should read at least 165 degrees F (74 degrees C).', 'Remove chicken to a plate.', 'Pour chicken broth into the pan and scrape any browned bits off the bottom with a flat-edged wooden spatula. Add more broth if needed to dislodge the browned bits, but not too much or it will be watery.', 'To serve, drizzle the pan sauce over the chicken.', 'Dotdash Meredith Food Studios', '   Tips  ', 'You can use water instead of chicken broth for the pan sauce.', \"   Editor's Note:  \", \"This recipe originally called for 1 tablespoon of salt. After many reviews, we've modified the amount to be 1/2 teaspoon, or to taste.\"]",
         "https://www.allrecipes.com/recipe/240208/simple-baked-chicken-breasts/",
         null
        ]
       ],
       "shape": {
        "columns": 11,
        "rows": 5
       }
      },
      "text/html": [
       "<div>\n",
       "<style scoped>\n",
       "    .dataframe tbody tr th:only-of-type {\n",
       "        vertical-align: middle;\n",
       "    }\n",
       "\n",
       "    .dataframe tbody tr th {\n",
       "        vertical-align: top;\n",
       "    }\n",
       "\n",
       "    .dataframe thead th {\n",
       "        text-align: right;\n",
       "    }\n",
       "</style>\n",
       "<table border=\"1\" class=\"dataframe\">\n",
       "  <thead>\n",
       "    <tr style=\"text-align: right;\">\n",
       "      <th></th>\n",
       "      <th>Row</th>\n",
       "      <th>Name</th>\n",
       "      <th>Prep Time</th>\n",
       "      <th>Cook Time</th>\n",
       "      <th>Total Time</th>\n",
       "      <th>Servings</th>\n",
       "      <th>Yield</th>\n",
       "      <th>Ingredients</th>\n",
       "      <th>Directions</th>\n",
       "      <th>url</th>\n",
       "      <th>Additional Time</th>\n",
       "    </tr>\n",
       "  </thead>\n",
       "  <tbody>\n",
       "    <tr>\n",
       "      <th>0</th>\n",
       "      <td>0</td>\n",
       "      <td>Indian Chicken Curry (Murgh Kari)</td>\n",
       "      <td>20 mins</td>\n",
       "      <td>40 mins</td>\n",
       "      <td>1 hrs</td>\n",
       "      <td>6</td>\n",
       "      <td>6 servings</td>\n",
       "      <td>[{'quantity': '2', 'unit': 'pounds', 'name': '...</td>\n",
       "      <td>['Sprinkle the chicken breasts with 2 teaspoon...</td>\n",
       "      <td>https://www.allrecipes.com/recipe/212721/india...</td>\n",
       "      <td>NaN</td>\n",
       "    </tr>\n",
       "    <tr>\n",
       "      <th>1</th>\n",
       "      <td>1</td>\n",
       "      <td>Chicken Stir-Fry</td>\n",
       "      <td>20 mins</td>\n",
       "      <td>20 mins</td>\n",
       "      <td>40 mins</td>\n",
       "      <td>6</td>\n",
       "      <td>NaN</td>\n",
       "      <td>[{'quantity': '4', 'unit': 'cups', 'name': 'wa...</td>\n",
       "      <td>['Bring water and rice to a boil in a saucepan...</td>\n",
       "      <td>https://www.allrecipes.com/recipe/223382/chick...</td>\n",
       "      <td>NaN</td>\n",
       "    </tr>\n",
       "    <tr>\n",
       "      <th>2</th>\n",
       "      <td>2</td>\n",
       "      <td>Jambalaya</td>\n",
       "      <td>20 mins</td>\n",
       "      <td>45 mins</td>\n",
       "      <td>1 hrs 5 mins</td>\n",
       "      <td>6</td>\n",
       "      <td>6 servings</td>\n",
       "      <td>[{'quantity': '2', 'unit': 'tablespoons', 'nam...</td>\n",
       "      <td>['Heat 1 tablespoon of peanut oil in a large h...</td>\n",
       "      <td>https://www.allrecipes.com/recipe/31848/jambal...</td>\n",
       "      <td>NaN</td>\n",
       "    </tr>\n",
       "    <tr>\n",
       "      <th>3</th>\n",
       "      <td>3</td>\n",
       "      <td>Chicken Katsu</td>\n",
       "      <td>10 mins</td>\n",
       "      <td>10 mins</td>\n",
       "      <td>20 mins</td>\n",
       "      <td>4</td>\n",
       "      <td>4 servings</td>\n",
       "      <td>[{'quantity': '4', 'unit': '', 'name': 'skinle...</td>\n",
       "      <td>['Season the chicken breasts on both sides wit...</td>\n",
       "      <td>https://www.allrecipes.com/recipe/72068/chicke...</td>\n",
       "      <td>NaN</td>\n",
       "    </tr>\n",
       "    <tr>\n",
       "      <th>4</th>\n",
       "      <td>4</td>\n",
       "      <td>Simple Baked Chicken Breasts</td>\n",
       "      <td>10 mins</td>\n",
       "      <td>25 mins</td>\n",
       "      <td>35 mins</td>\n",
       "      <td>4</td>\n",
       "      <td>NaN</td>\n",
       "      <td>[{'quantity': '4', 'unit': '(5 ounce)', 'name'...</td>\n",
       "      <td>['Preheat the oven to 400 degrees F (200 degre...</td>\n",
       "      <td>https://www.allrecipes.com/recipe/240208/simpl...</td>\n",
       "      <td>NaN</td>\n",
       "    </tr>\n",
       "  </tbody>\n",
       "</table>\n",
       "</div>"
      ],
      "text/plain": [
       "   Row                               Name Prep Time Cook Time    Total Time  \\\n",
       "0    0  Indian Chicken Curry (Murgh Kari)   20 mins   40 mins         1 hrs   \n",
       "1    1                   Chicken Stir-Fry   20 mins   20 mins       40 mins   \n",
       "2    2                          Jambalaya   20 mins   45 mins  1 hrs 5 mins   \n",
       "3    3                      Chicken Katsu   10 mins   10 mins       20 mins   \n",
       "4    4       Simple Baked Chicken Breasts   10 mins   25 mins       35 mins   \n",
       "\n",
       "   Servings       Yield                                        Ingredients  \\\n",
       "0         6  6 servings  [{'quantity': '2', 'unit': 'pounds', 'name': '...   \n",
       "1         6         NaN  [{'quantity': '4', 'unit': 'cups', 'name': 'wa...   \n",
       "2         6  6 servings  [{'quantity': '2', 'unit': 'tablespoons', 'nam...   \n",
       "3         4  4 servings  [{'quantity': '4', 'unit': '', 'name': 'skinle...   \n",
       "4         4         NaN  [{'quantity': '4', 'unit': '(5 ounce)', 'name'...   \n",
       "\n",
       "                                          Directions  \\\n",
       "0  ['Sprinkle the chicken breasts with 2 teaspoon...   \n",
       "1  ['Bring water and rice to a boil in a saucepan...   \n",
       "2  ['Heat 1 tablespoon of peanut oil in a large h...   \n",
       "3  ['Season the chicken breasts on both sides wit...   \n",
       "4  ['Preheat the oven to 400 degrees F (200 degre...   \n",
       "\n",
       "                                                 url Additional Time  \n",
       "0  https://www.allrecipes.com/recipe/212721/india...             NaN  \n",
       "1  https://www.allrecipes.com/recipe/223382/chick...             NaN  \n",
       "2  https://www.allrecipes.com/recipe/31848/jambal...             NaN  \n",
       "3  https://www.allrecipes.com/recipe/72068/chicke...             NaN  \n",
       "4  https://www.allrecipes.com/recipe/240208/simpl...             NaN  "
      ]
     },
     "execution_count": 10,
     "metadata": {},
     "output_type": "execute_result"
    }
   ],
   "source": [
    "df = pd.read_csv(\"data/test_recipes.csv\").head()\n",
    "df"
   ]
  },
  {
   "cell_type": "code",
   "execution_count": 11,
   "metadata": {},
   "outputs": [
    {
     "name": "stdout",
     "output_type": "stream",
     "text": [
      "[{'quantity': '2', 'unit': 'pounds', 'name': 'skinless, boneless chicken breast halves'}, {'quantity': '2', 'unit': 'teaspoons', 'name': 'salt'}, {'quantity': '½', 'unit': 'cup', 'name': 'cooking oil'}, {'quantity': '1 ½', 'unit': 'cups', 'name': 'chopped onion'}, {'quantity': '1', 'unit': 'tablespoon', 'name': 'minced garlic'}, {'quantity': '1 ½', 'unit': 'teaspoons', 'name': 'minced fresh ginger root'}, {'quantity': '1', 'unit': 'tablespoon', 'name': 'curry powder'}, {'quantity': '1', 'unit': 'teaspoon', 'name': 'ground cumin'}, {'quantity': '1', 'unit': 'teaspoon', 'name': 'ground turmeric'}, {'quantity': '1', 'unit': 'teaspoon', 'name': 'ground coriander'}, {'quantity': '1', 'unit': 'teaspoon', 'name': 'cayenne pepper'}, {'quantity': '1', 'unit': 'tablespoon', 'name': 'water'}, {'quantity': '1', 'unit': '(15 ounce) can', 'name': 'crushed tomatoes'}, {'quantity': '1', 'unit': 'cup', 'name': 'plain yogurt'}, {'quantity': '1', 'unit': 'tablespoon', 'name': 'chopped fresh cilantro'}, {'quantity': '1', 'unit': 'teaspoon', 'name': 'salt'}, {'quantity': '½', 'unit': 'cup', 'name': 'water'}, {'quantity': '1', 'unit': 'teaspoon', 'name': 'garam masala'}, {'quantity': '1', 'unit': 'tablespoon', 'name': 'chopped fresh cilantro'}, {'quantity': '1', 'unit': 'tablespoon', 'name': 'fresh lemon juice'}]\n"
     ]
    },
    {
     "data": {
      "text/plain": [
       "dict"
      ]
     },
     "execution_count": 11,
     "metadata": {},
     "output_type": "execute_result"
    }
   ],
   "source": [
    "data_str = \"[{'quantity': '2', 'unit': 'pounds', 'name': 'skinless, boneless chicken breast halves'}, {'quantity': '2', 'unit': 'teaspoons', 'name': 'salt'}, {'quantity': '½', 'unit': 'cup', 'name': 'cooking oil'}, {'quantity': '1 ½', 'unit': 'cups', 'name': 'chopped onion'}, {'quantity': '1', 'unit': 'tablespoon', 'name': 'minced garlic'}, {'quantity': '1 ½', 'unit': 'teaspoons', 'name': 'minced fresh ginger root'}, {'quantity': '1', 'unit': 'tablespoon', 'name': 'curry powder'}, {'quantity': '1', 'unit': 'teaspoon', 'name': 'ground cumin'}, {'quantity': '1', 'unit': 'teaspoon', 'name': 'ground turmeric'}, {'quantity': '1', 'unit': 'teaspoon', 'name': 'ground coriander'}, {'quantity': '1', 'unit': 'teaspoon', 'name': 'cayenne pepper'}, {'quantity': '1', 'unit': 'tablespoon', 'name': 'water'}, {'quantity': '1', 'unit': '(15 ounce) can', 'name': 'crushed tomatoes'}, {'quantity': '1', 'unit': 'cup', 'name': 'plain yogurt'}, {'quantity': '1', 'unit': 'tablespoon', 'name': 'chopped fresh cilantro'}, {'quantity': '1', 'unit': 'teaspoon', 'name': 'salt'}, {'quantity': '½', 'unit': 'cup', 'name': 'water'}, {'quantity': '1', 'unit': 'teaspoon', 'name': 'garam masala'}, {'quantity': '1', 'unit': 'tablespoon', 'name': 'chopped fresh cilantro'}, {'quantity': '1', 'unit': 'tablespoon', 'name': 'fresh lemon juice'}]\"\n",
    "\n",
    "data_list = ast.literal_eval(data_str)\n",
    "print(data_list)\n",
    "\n",
    "type(data_list[0])"
   ]
  },
  {
   "cell_type": "code",
   "execution_count": 12,
   "metadata": {},
   "outputs": [
    {
     "name": "stdout",
     "output_type": "stream",
     "text": [
      "[{'quantity': '2', 'unit': 'pounds', 'name': 'skinless, boneless chicken breast halves'}, {'quantity': '2', 'unit': 'teaspoons', 'name': 'salt'}, {'quantity': '½', 'unit': 'cup', 'name': 'cooking oil'}, {'quantity': '1 ½', 'unit': 'cups', 'name': 'chopped onion'}, {'quantity': '1', 'unit': 'tablespoon', 'name': 'minced garlic'}, {'quantity': '1 ½', 'unit': 'teaspoons', 'name': 'minced fresh ginger root'}, {'quantity': '1', 'unit': 'tablespoon', 'name': 'curry powder'}, {'quantity': '1', 'unit': 'teaspoon', 'name': 'ground cumin'}, {'quantity': '1', 'unit': 'teaspoon', 'name': 'ground turmeric'}, {'quantity': '1', 'unit': 'teaspoon', 'name': 'ground coriander'}, {'quantity': '1', 'unit': 'teaspoon', 'name': 'cayenne pepper'}, {'quantity': '1', 'unit': 'tablespoon', 'name': 'water'}, {'quantity': '1', 'unit': '(15 ounce) can', 'name': 'crushed tomatoes'}, {'quantity': '1', 'unit': 'cup', 'name': 'plain yogurt'}, {'quantity': '1', 'unit': 'tablespoon', 'name': 'chopped fresh cilantro'}, {'quantity': '1', 'unit': 'teaspoon', 'name': 'salt'}, {'quantity': '½', 'unit': 'cup', 'name': 'water'}, {'quantity': '1', 'unit': 'teaspoon', 'name': 'garam masala'}, {'quantity': '1', 'unit': 'tablespoon', 'name': 'chopped fresh cilantro'}, {'quantity': '1', 'unit': 'tablespoon', 'name': 'fresh lemon juice'}]\n"
     ]
    }
   ],
   "source": [
    "print(df[\"Ingredients\"][0])"
   ]
  },
  {
   "cell_type": "code",
   "execution_count": 13,
   "metadata": {},
   "outputs": [
    {
     "data": {
      "application/vnd.microsoft.datawrangler.viewer.v0+json": {
       "columns": [
        {
         "name": "index",
         "rawType": "int64",
         "type": "integer"
        },
        {
         "name": "Row",
         "rawType": "int64",
         "type": "integer"
        },
        {
         "name": "Name",
         "rawType": "object",
         "type": "string"
        },
        {
         "name": "Prep Time",
         "rawType": "object",
         "type": "string"
        },
        {
         "name": "Cook Time",
         "rawType": "object",
         "type": "string"
        },
        {
         "name": "Total Time",
         "rawType": "object",
         "type": "string"
        },
        {
         "name": "Servings",
         "rawType": "int64",
         "type": "integer"
        },
        {
         "name": "Yield",
         "rawType": "object",
         "type": "unknown"
        },
        {
         "name": "Ingredients",
         "rawType": "object",
         "type": "string"
        },
        {
         "name": "Directions",
         "rawType": "object",
         "type": "string"
        },
        {
         "name": "url",
         "rawType": "object",
         "type": "string"
        },
        {
         "name": "Additional Time",
         "rawType": "object",
         "type": "unknown"
        },
        {
         "name": "Ingredient_list",
         "rawType": "object",
         "type": "unknown"
        }
       ],
       "conversionMethod": "pd.DataFrame",
       "ref": "7271d978-f3ef-4516-bea0-7307b7621895",
       "rows": [
        [
         "0",
         "0",
         "Indian Chicken Curry (Murgh Kari)",
         "20 mins",
         "40 mins",
         "1 hrs",
         "6",
         "6 servings",
         "[{'quantity': '2', 'unit': 'pounds', 'name': 'skinless, boneless chicken breast halves'}, {'quantity': '2', 'unit': 'teaspoons', 'name': 'salt'}, {'quantity': '½', 'unit': 'cup', 'name': 'cooking oil'}, {'quantity': '1 ½', 'unit': 'cups', 'name': 'chopped onion'}, {'quantity': '1', 'unit': 'tablespoon', 'name': 'minced garlic'}, {'quantity': '1 ½', 'unit': 'teaspoons', 'name': 'minced fresh ginger root'}, {'quantity': '1', 'unit': 'tablespoon', 'name': 'curry powder'}, {'quantity': '1', 'unit': 'teaspoon', 'name': 'ground cumin'}, {'quantity': '1', 'unit': 'teaspoon', 'name': 'ground turmeric'}, {'quantity': '1', 'unit': 'teaspoon', 'name': 'ground coriander'}, {'quantity': '1', 'unit': 'teaspoon', 'name': 'cayenne pepper'}, {'quantity': '1', 'unit': 'tablespoon', 'name': 'water'}, {'quantity': '1', 'unit': '(15 ounce) can', 'name': 'crushed tomatoes'}, {'quantity': '1', 'unit': 'cup', 'name': 'plain yogurt'}, {'quantity': '1', 'unit': 'tablespoon', 'name': 'chopped fresh cilantro'}, {'quantity': '1', 'unit': 'teaspoon', 'name': 'salt'}, {'quantity': '½', 'unit': 'cup', 'name': 'water'}, {'quantity': '1', 'unit': 'teaspoon', 'name': 'garam masala'}, {'quantity': '1', 'unit': 'tablespoon', 'name': 'chopped fresh cilantro'}, {'quantity': '1', 'unit': 'tablespoon', 'name': 'fresh lemon juice'}]",
         "['Sprinkle the chicken breasts with 2 teaspoons salt.', 'Heat oil in a large skillet over high heat; partially cook the chicken in the hot oil in batches until completely browned on all sides. Transfer browned chicken breasts to a plate and set aside.', 'Reduce the heat to medium and add onion, garlic, and ginger to the oil remaining in the skillet. Cook and stir until onion turns soft and translucent, 5 to 8 minutes. Stir curry powder, cumin, turmeric, coriander, cayenne, and 1 tablespoon of water into the onion mixture; allow to heat together for about 1 minute while stirring. Add tomatoes, yogurt, 1 tablespoon chopped cilantro, and 1 teaspoon salt to the mixture; stir to combine.', 'Return chicken breast to the skillet along with any juices on the plate. Pour in 1/2 cup water and bring to a boil, turning the chicken to coat with the sauce. Sprinkle garam masala and 1 tablespoon cilantro over the chicken.', 'Cover the skillet and simmer until chicken breasts are no longer pink in the center and the juices run clear, about 20 minutes. An instant-read thermometer inserted into the center should read at least 165 degrees F (74 degrees C). Drizzle with lemon juice to serve.', 'Dotdash Meredith Food Studio']",
         "https://www.allrecipes.com/recipe/212721/indian-chicken-curry-murgh-kari/",
         null,
         "[{'quantity': '2', 'unit': 'pounds', 'name': 'skinless, boneless chicken breast halves'}, {'quantity': '2', 'unit': 'teaspoons', 'name': 'salt'}, {'quantity': '½', 'unit': 'cup', 'name': 'cooking oil'}, {'quantity': '1 ½', 'unit': 'cups', 'name': 'chopped onion'}, {'quantity': '1', 'unit': 'tablespoon', 'name': 'minced garlic'}, {'quantity': '1 ½', 'unit': 'teaspoons', 'name': 'minced fresh ginger root'}, {'quantity': '1', 'unit': 'tablespoon', 'name': 'curry powder'}, {'quantity': '1', 'unit': 'teaspoon', 'name': 'ground cumin'}, {'quantity': '1', 'unit': 'teaspoon', 'name': 'ground turmeric'}, {'quantity': '1', 'unit': 'teaspoon', 'name': 'ground coriander'}, {'quantity': '1', 'unit': 'teaspoon', 'name': 'cayenne pepper'}, {'quantity': '1', 'unit': 'tablespoon', 'name': 'water'}, {'quantity': '1', 'unit': '(15 ounce) can', 'name': 'crushed tomatoes'}, {'quantity': '1', 'unit': 'cup', 'name': 'plain yogurt'}, {'quantity': '1', 'unit': 'tablespoon', 'name': 'chopped fresh cilantro'}, {'quantity': '1', 'unit': 'teaspoon', 'name': 'salt'}, {'quantity': '½', 'unit': 'cup', 'name': 'water'}, {'quantity': '1', 'unit': 'teaspoon', 'name': 'garam masala'}, {'quantity': '1', 'unit': 'tablespoon', 'name': 'chopped fresh cilantro'}, {'quantity': '1', 'unit': 'tablespoon', 'name': 'fresh lemon juice'}]"
        ],
        [
         "1",
         "1",
         "Chicken Stir-Fry",
         "20 mins",
         "20 mins",
         "40 mins",
         "6",
         null,
         "[{'quantity': '4', 'unit': 'cups', 'name': 'water'}, {'quantity': '2', 'unit': 'cups', 'name': 'white rice'}, {'quantity': '⅔', 'unit': 'cup', 'name': 'soy sauce'}, {'quantity': '¼', 'unit': 'cup', 'name': 'brown sugar'}, {'quantity': '1', 'unit': 'tablespoon', 'name': 'cornstarch'}, {'quantity': '1', 'unit': 'tablespoon', 'name': 'minced fresh ginger'}, {'quantity': '1', 'unit': 'tablespoon', 'name': 'minced garlic'}, {'quantity': '¼', 'unit': 'teaspoon', 'name': 'red pepper flakes'}, {'quantity': '3', 'unit': '', 'name': 'skinless, boneless chicken breast halves, thinly sliced'}, {'quantity': '2', 'unit': 'tablespoons', 'name': 'sesame oil, divided'}, {'quantity': '1', 'unit': 'head', 'name': 'broccoli, broken into florets'}, {'quantity': '1', 'unit': '', 'name': 'onion, cut into large chunks'}, {'quantity': '1', 'unit': 'cup', 'name': 'sliced carrots'}, {'quantity': '1', 'unit': '(8 ounce) can', 'name': 'sliced water chestnuts, drained'}, {'quantity': '1', 'unit': '', 'name': 'green bell pepper, cut into matchsticks'}]",
         "['Bring water and rice to a boil in a saucepan over high heat. Reduce heat to medium-low, cover, and simmer until rice is tender, and liquid has been absorbed, 20 to 25 minutes.', 'Meanwhile, combine soy sauce, brown sugar, and cornstarch in a medium glass or ceramic bowl; stir until smooth. Stir in ginger, garlic, and red pepper flakes; add chicken and stir to coat. Cover and marinate in the refrigerator for at least 15 minutes.', 'Heat 1 tablespoon sesame oil in a wok or large skillet over medium-high heat. Add broccoli, onion, carrots, water chestnuts, and bell pepper; cook and stir until just tender, about 5 minutes. Transfer vegetables into a dish; set aside.', 'Heat remaining 1 tablespoon sesame oil in the same wok or skillet over medium-high heat. Add chicken, reserving marinade, and cook until just browned, about 2 minutes per side; stir in vegetables and reserved marinade. Bring to a boil; cook and stir until chicken is no longer pink in the center and vegetables are tender, 5 to 7 minutes. Serve over rice.', 'Rita']",
         "https://www.allrecipes.com/recipe/223382/chicken-stir-fry/",
         null,
         "[{'quantity': '4', 'unit': 'cups', 'name': 'water'}, {'quantity': '2', 'unit': 'cups', 'name': 'white rice'}, {'quantity': '⅔', 'unit': 'cup', 'name': 'soy sauce'}, {'quantity': '¼', 'unit': 'cup', 'name': 'brown sugar'}, {'quantity': '1', 'unit': 'tablespoon', 'name': 'cornstarch'}, {'quantity': '1', 'unit': 'tablespoon', 'name': 'minced fresh ginger'}, {'quantity': '1', 'unit': 'tablespoon', 'name': 'minced garlic'}, {'quantity': '¼', 'unit': 'teaspoon', 'name': 'red pepper flakes'}, {'quantity': '3', 'unit': '', 'name': 'skinless, boneless chicken breast halves, thinly sliced'}, {'quantity': '2', 'unit': 'tablespoons', 'name': 'sesame oil, divided'}, {'quantity': '1', 'unit': 'head', 'name': 'broccoli, broken into florets'}, {'quantity': '1', 'unit': '', 'name': 'onion, cut into large chunks'}, {'quantity': '1', 'unit': 'cup', 'name': 'sliced carrots'}, {'quantity': '1', 'unit': '(8 ounce) can', 'name': 'sliced water chestnuts, drained'}, {'quantity': '1', 'unit': '', 'name': 'green bell pepper, cut into matchsticks'}]"
        ],
        [
         "2",
         "2",
         "Jambalaya",
         "20 mins",
         "45 mins",
         "1 hrs 5 mins",
         "6",
         "6 servings",
         "[{'quantity': '2', 'unit': 'tablespoons', 'name': 'peanut oil, divided'}, {'quantity': '1', 'unit': 'tablespoon', 'name': 'Cajun seasoning'}, {'quantity': '10', 'unit': 'ounces', 'name': 'andouille sausage, sliced into rounds'}, {'quantity': '1', 'unit': 'pound', 'name': 'boneless skinless chicken breasts, cut into 1 inch pieces'}, {'quantity': '1', 'unit': '', 'name': 'onion, diced'}, {'quantity': '1', 'unit': 'small', 'name': 'green bell pepper, diced'}, {'quantity': '2', 'unit': 'stalks', 'name': 'celery, diced'}, {'quantity': '3', 'unit': 'cloves', 'name': 'garlic, minced'}, {'quantity': '1', 'unit': '(16 ounce) can', 'name': 'crushed Italian tomatoes'}, {'quantity': '½', 'unit': 'teaspoon', 'name': 'red pepper flakes'}, {'quantity': '½', 'unit': 'teaspoon', 'name': 'ground black pepper'}, {'quantity': '1', 'unit': 'teaspoon', 'name': 'salt'}, {'quantity': '½', 'unit': 'teaspoon', 'name': 'hot pepper sauce'}, {'quantity': '2', 'unit': 'teaspoons', 'name': 'Worcestershire sauce'}, {'quantity': '1', 'unit': 'teaspoon', 'name': 'file powder'}, {'quantity': '1 ¼', 'unit': 'cups', 'name': 'uncooked white rice'}, {'quantity': '2 ½', 'unit': 'cups', 'name': 'chicken broth'}]",
         "['Heat 1 tablespoon of peanut oil in a large heavy Dutch oven over medium heat. Season the sausage and chicken pieces with Cajun seasoning. Saute sausage until browned. Remove with slotted spoon, and set aside. Add 1 tablespoon peanut oil, and saute chicken pieces until lightly browned on all sides. Remove with a slotted spoon, and set aside.', 'In the same pot, saute onion, bell pepper, celery and garlic until tender. Stir in crushed tomatoes, and season with red pepper, black pepper, salt, hot pepper sauce, Worcestershire sauce and file powder. Stir in chicken and sausage. Cook for 10 minutes, stirring occasionally.', 'Stir in the rice and chicken broth. Bring to a boil, reduce heat, and simmer for 20 to 25 minutes, or until liquid is absorbed.', 'Meredith']",
         "https://www.allrecipes.com/recipe/31848/jambalaya/",
         null,
         "[{'quantity': '2', 'unit': 'tablespoons', 'name': 'peanut oil, divided'}, {'quantity': '1', 'unit': 'tablespoon', 'name': 'Cajun seasoning'}, {'quantity': '10', 'unit': 'ounces', 'name': 'andouille sausage, sliced into rounds'}, {'quantity': '1', 'unit': 'pound', 'name': 'boneless skinless chicken breasts, cut into 1 inch pieces'}, {'quantity': '1', 'unit': '', 'name': 'onion, diced'}, {'quantity': '1', 'unit': 'small', 'name': 'green bell pepper, diced'}, {'quantity': '2', 'unit': 'stalks', 'name': 'celery, diced'}, {'quantity': '3', 'unit': 'cloves', 'name': 'garlic, minced'}, {'quantity': '1', 'unit': '(16 ounce) can', 'name': 'crushed Italian tomatoes'}, {'quantity': '½', 'unit': 'teaspoon', 'name': 'red pepper flakes'}, {'quantity': '½', 'unit': 'teaspoon', 'name': 'ground black pepper'}, {'quantity': '1', 'unit': 'teaspoon', 'name': 'salt'}, {'quantity': '½', 'unit': 'teaspoon', 'name': 'hot pepper sauce'}, {'quantity': '2', 'unit': 'teaspoons', 'name': 'Worcestershire sauce'}, {'quantity': '1', 'unit': 'teaspoon', 'name': 'file powder'}, {'quantity': '1 ¼', 'unit': 'cups', 'name': 'uncooked white rice'}, {'quantity': '2 ½', 'unit': 'cups', 'name': 'chicken broth'}]"
        ],
        [
         "3",
         "3",
         "Chicken Katsu",
         "10 mins",
         "10 mins",
         "20 mins",
         "4",
         "4 servings",
         "[{'quantity': '4', 'unit': '', 'name': 'skinless, boneless chicken breast halves - pounded to 1/2 inch thickness'}, {'quantity': '', 'unit': '', 'name': 'salt and pepper to taste'}, {'quantity': '2', 'unit': 'tablespoons', 'name': 'all-purpose flour'}, {'quantity': '1', 'unit': '', 'name': 'egg, beaten'}, {'quantity': '1', 'unit': 'cup', 'name': 'panko bread crumbs'}, {'quantity': '1', 'unit': 'cup', 'name': 'oil for frying, or as needed'}]",
         "['Season the chicken breasts on both sides with salt and pepper. Place the flour, egg and panko crumbs into separate shallow dishes. Coat the chicken breasts in flour, shaking off any excess. Dip them into the egg, and then press into the panko crumbs until well coated on both sides.', 'Heat 1/4 inch of oil in a large skillet over medium-high heat. Place chicken in the hot oil, and cook 3 or 4 minutes per side, or until golden brown.', 'Mitsuha Kirigaija', \"   Editor's Note:  \", 'Try serving this with Japanese salad dressing for dipping.']",
         "https://www.allrecipes.com/recipe/72068/chicken-katsu/",
         null,
         "[{'quantity': '4', 'unit': '', 'name': 'skinless, boneless chicken breast halves - pounded to 1/2 inch thickness'}, {'quantity': '', 'unit': '', 'name': 'salt and pepper to taste'}, {'quantity': '2', 'unit': 'tablespoons', 'name': 'all-purpose flour'}, {'quantity': '1', 'unit': '', 'name': 'egg, beaten'}, {'quantity': '1', 'unit': 'cup', 'name': 'panko bread crumbs'}, {'quantity': '1', 'unit': 'cup', 'name': 'oil for frying, or as needed'}]"
        ],
        [
         "4",
         "4",
         "Simple Baked Chicken Breasts",
         "10 mins",
         "25 mins",
         "35 mins",
         "4",
         null,
         "[{'quantity': '4', 'unit': '(5 ounce)', 'name': 'skinless, boneless chicken breast halves'}, {'quantity': '2', 'unit': 'tablespoons', 'name': 'olive oil'}, {'quantity': '½', 'unit': 'teaspoon', 'name': 'coarse sea salt, or to taste'}, {'quantity': '1', 'unit': 'pinch', 'name': \"Creole seasoning (such as Tony Chachere's®), or more to taste\"}, {'quantity': '1', 'unit': 'tablespoon', 'name': 'chicken broth, or more to taste'}]",
         "['Preheat the oven to 400 degrees F (200 degrees C).', 'Rub chicken breasts with olive oil and sprinkle both sides with salt and Creole seasoning. Place chicken in a broiler pan.', 'Bake in the preheated oven for 10 minutes. Flip chicken and cook until no longer pink in the center and the juices run clear, about 15 minutes more. An instant-read thermometer inserted into the center should read at least 165 degrees F (74 degrees C).', 'Remove chicken to a plate.', 'Pour chicken broth into the pan and scrape any browned bits off the bottom with a flat-edged wooden spatula. Add more broth if needed to dislodge the browned bits, but not too much or it will be watery.', 'To serve, drizzle the pan sauce over the chicken.', 'Dotdash Meredith Food Studios', '   Tips  ', 'You can use water instead of chicken broth for the pan sauce.', \"   Editor's Note:  \", \"This recipe originally called for 1 tablespoon of salt. After many reviews, we've modified the amount to be 1/2 teaspoon, or to taste.\"]",
         "https://www.allrecipes.com/recipe/240208/simple-baked-chicken-breasts/",
         null,
         "[{'quantity': '4', 'unit': '(5 ounce)', 'name': 'skinless, boneless chicken breast halves'}, {'quantity': '2', 'unit': 'tablespoons', 'name': 'olive oil'}, {'quantity': '½', 'unit': 'teaspoon', 'name': 'coarse sea salt, or to taste'}, {'quantity': '1', 'unit': 'pinch', 'name': \"Creole seasoning (such as Tony Chachere's®), or more to taste\"}, {'quantity': '1', 'unit': 'tablespoon', 'name': 'chicken broth, or more to taste'}]"
        ]
       ],
       "shape": {
        "columns": 12,
        "rows": 5
       }
      },
      "text/html": [
       "<div>\n",
       "<style scoped>\n",
       "    .dataframe tbody tr th:only-of-type {\n",
       "        vertical-align: middle;\n",
       "    }\n",
       "\n",
       "    .dataframe tbody tr th {\n",
       "        vertical-align: top;\n",
       "    }\n",
       "\n",
       "    .dataframe thead th {\n",
       "        text-align: right;\n",
       "    }\n",
       "</style>\n",
       "<table border=\"1\" class=\"dataframe\">\n",
       "  <thead>\n",
       "    <tr style=\"text-align: right;\">\n",
       "      <th></th>\n",
       "      <th>Row</th>\n",
       "      <th>Name</th>\n",
       "      <th>Prep Time</th>\n",
       "      <th>Cook Time</th>\n",
       "      <th>Total Time</th>\n",
       "      <th>Servings</th>\n",
       "      <th>Yield</th>\n",
       "      <th>Ingredients</th>\n",
       "      <th>Directions</th>\n",
       "      <th>url</th>\n",
       "      <th>Additional Time</th>\n",
       "      <th>Ingredient_list</th>\n",
       "    </tr>\n",
       "  </thead>\n",
       "  <tbody>\n",
       "    <tr>\n",
       "      <th>0</th>\n",
       "      <td>0</td>\n",
       "      <td>Indian Chicken Curry (Murgh Kari)</td>\n",
       "      <td>20 mins</td>\n",
       "      <td>40 mins</td>\n",
       "      <td>1 hrs</td>\n",
       "      <td>6</td>\n",
       "      <td>6 servings</td>\n",
       "      <td>[{'quantity': '2', 'unit': 'pounds', 'name': '...</td>\n",
       "      <td>['Sprinkle the chicken breasts with 2 teaspoon...</td>\n",
       "      <td>https://www.allrecipes.com/recipe/212721/india...</td>\n",
       "      <td>NaN</td>\n",
       "      <td>[{'quantity': '2', 'unit': 'pounds', 'name': '...</td>\n",
       "    </tr>\n",
       "    <tr>\n",
       "      <th>1</th>\n",
       "      <td>1</td>\n",
       "      <td>Chicken Stir-Fry</td>\n",
       "      <td>20 mins</td>\n",
       "      <td>20 mins</td>\n",
       "      <td>40 mins</td>\n",
       "      <td>6</td>\n",
       "      <td>NaN</td>\n",
       "      <td>[{'quantity': '4', 'unit': 'cups', 'name': 'wa...</td>\n",
       "      <td>['Bring water and rice to a boil in a saucepan...</td>\n",
       "      <td>https://www.allrecipes.com/recipe/223382/chick...</td>\n",
       "      <td>NaN</td>\n",
       "      <td>[{'quantity': '4', 'unit': 'cups', 'name': 'wa...</td>\n",
       "    </tr>\n",
       "    <tr>\n",
       "      <th>2</th>\n",
       "      <td>2</td>\n",
       "      <td>Jambalaya</td>\n",
       "      <td>20 mins</td>\n",
       "      <td>45 mins</td>\n",
       "      <td>1 hrs 5 mins</td>\n",
       "      <td>6</td>\n",
       "      <td>6 servings</td>\n",
       "      <td>[{'quantity': '2', 'unit': 'tablespoons', 'nam...</td>\n",
       "      <td>['Heat 1 tablespoon of peanut oil in a large h...</td>\n",
       "      <td>https://www.allrecipes.com/recipe/31848/jambal...</td>\n",
       "      <td>NaN</td>\n",
       "      <td>[{'quantity': '2', 'unit': 'tablespoons', 'nam...</td>\n",
       "    </tr>\n",
       "    <tr>\n",
       "      <th>3</th>\n",
       "      <td>3</td>\n",
       "      <td>Chicken Katsu</td>\n",
       "      <td>10 mins</td>\n",
       "      <td>10 mins</td>\n",
       "      <td>20 mins</td>\n",
       "      <td>4</td>\n",
       "      <td>4 servings</td>\n",
       "      <td>[{'quantity': '4', 'unit': '', 'name': 'skinle...</td>\n",
       "      <td>['Season the chicken breasts on both sides wit...</td>\n",
       "      <td>https://www.allrecipes.com/recipe/72068/chicke...</td>\n",
       "      <td>NaN</td>\n",
       "      <td>[{'quantity': '4', 'unit': '', 'name': 'skinle...</td>\n",
       "    </tr>\n",
       "    <tr>\n",
       "      <th>4</th>\n",
       "      <td>4</td>\n",
       "      <td>Simple Baked Chicken Breasts</td>\n",
       "      <td>10 mins</td>\n",
       "      <td>25 mins</td>\n",
       "      <td>35 mins</td>\n",
       "      <td>4</td>\n",
       "      <td>NaN</td>\n",
       "      <td>[{'quantity': '4', 'unit': '(5 ounce)', 'name'...</td>\n",
       "      <td>['Preheat the oven to 400 degrees F (200 degre...</td>\n",
       "      <td>https://www.allrecipes.com/recipe/240208/simpl...</td>\n",
       "      <td>NaN</td>\n",
       "      <td>[{'quantity': '4', 'unit': '(5 ounce)', 'name'...</td>\n",
       "    </tr>\n",
       "  </tbody>\n",
       "</table>\n",
       "</div>"
      ],
      "text/plain": [
       "   Row                               Name Prep Time Cook Time    Total Time  \\\n",
       "0    0  Indian Chicken Curry (Murgh Kari)   20 mins   40 mins         1 hrs   \n",
       "1    1                   Chicken Stir-Fry   20 mins   20 mins       40 mins   \n",
       "2    2                          Jambalaya   20 mins   45 mins  1 hrs 5 mins   \n",
       "3    3                      Chicken Katsu   10 mins   10 mins       20 mins   \n",
       "4    4       Simple Baked Chicken Breasts   10 mins   25 mins       35 mins   \n",
       "\n",
       "   Servings       Yield                                        Ingredients  \\\n",
       "0         6  6 servings  [{'quantity': '2', 'unit': 'pounds', 'name': '...   \n",
       "1         6         NaN  [{'quantity': '4', 'unit': 'cups', 'name': 'wa...   \n",
       "2         6  6 servings  [{'quantity': '2', 'unit': 'tablespoons', 'nam...   \n",
       "3         4  4 servings  [{'quantity': '4', 'unit': '', 'name': 'skinle...   \n",
       "4         4         NaN  [{'quantity': '4', 'unit': '(5 ounce)', 'name'...   \n",
       "\n",
       "                                          Directions  \\\n",
       "0  ['Sprinkle the chicken breasts with 2 teaspoon...   \n",
       "1  ['Bring water and rice to a boil in a saucepan...   \n",
       "2  ['Heat 1 tablespoon of peanut oil in a large h...   \n",
       "3  ['Season the chicken breasts on both sides wit...   \n",
       "4  ['Preheat the oven to 400 degrees F (200 degre...   \n",
       "\n",
       "                                                 url Additional Time  \\\n",
       "0  https://www.allrecipes.com/recipe/212721/india...             NaN   \n",
       "1  https://www.allrecipes.com/recipe/223382/chick...             NaN   \n",
       "2  https://www.allrecipes.com/recipe/31848/jambal...             NaN   \n",
       "3  https://www.allrecipes.com/recipe/72068/chicke...             NaN   \n",
       "4  https://www.allrecipes.com/recipe/240208/simpl...             NaN   \n",
       "\n",
       "                                     Ingredient_list  \n",
       "0  [{'quantity': '2', 'unit': 'pounds', 'name': '...  \n",
       "1  [{'quantity': '4', 'unit': 'cups', 'name': 'wa...  \n",
       "2  [{'quantity': '2', 'unit': 'tablespoons', 'nam...  \n",
       "3  [{'quantity': '4', 'unit': '', 'name': 'skinle...  \n",
       "4  [{'quantity': '4', 'unit': '(5 ounce)', 'name'...  "
      ]
     },
     "execution_count": 13,
     "metadata": {},
     "output_type": "execute_result"
    }
   ],
   "source": [
    "df['Ingredient_list'] = df['Ingredients'].apply(ast.literal_eval)\n",
    "df"
   ]
  },
  {
   "cell_type": "code",
   "execution_count": 14,
   "metadata": {},
   "outputs": [
    {
     "data": {
      "application/vnd.microsoft.datawrangler.viewer.v0+json": {
       "columns": [
        {
         "name": "index",
         "rawType": "int64",
         "type": "integer"
        },
        {
         "name": "Row",
         "rawType": "int64",
         "type": "integer"
        },
        {
         "name": "Name",
         "rawType": "object",
         "type": "string"
        },
        {
         "name": "Prep Time",
         "rawType": "object",
         "type": "string"
        },
        {
         "name": "Cook Time",
         "rawType": "object",
         "type": "string"
        },
        {
         "name": "Total Time",
         "rawType": "object",
         "type": "string"
        },
        {
         "name": "Servings",
         "rawType": "int64",
         "type": "integer"
        },
        {
         "name": "Yield",
         "rawType": "object",
         "type": "unknown"
        },
        {
         "name": "Ingredients",
         "rawType": "object",
         "type": "string"
        },
        {
         "name": "Directions",
         "rawType": "object",
         "type": "string"
        },
        {
         "name": "url",
         "rawType": "object",
         "type": "string"
        },
        {
         "name": "Additional Time",
         "rawType": "object",
         "type": "unknown"
        },
        {
         "name": "Ingredient_list",
         "rawType": "object",
         "type": "unknown"
        },
        {
         "name": "Ingredient_names",
         "rawType": "object",
         "type": "unknown"
        },
        {
         "name": "Simplified_ingredient_names",
         "rawType": "object",
         "type": "unknown"
        }
       ],
       "conversionMethod": "pd.DataFrame",
       "ref": "57450742-bdc7-4dc1-a837-c90e6ce46cea",
       "rows": [
        [
         "0",
         "0",
         "Indian Chicken Curry (Murgh Kari)",
         "20 mins",
         "40 mins",
         "1 hrs",
         "6",
         "6 servings",
         "[{'quantity': '2', 'unit': 'pounds', 'name': 'skinless, boneless chicken breast halves'}, {'quantity': '2', 'unit': 'teaspoons', 'name': 'salt'}, {'quantity': '½', 'unit': 'cup', 'name': 'cooking oil'}, {'quantity': '1 ½', 'unit': 'cups', 'name': 'chopped onion'}, {'quantity': '1', 'unit': 'tablespoon', 'name': 'minced garlic'}, {'quantity': '1 ½', 'unit': 'teaspoons', 'name': 'minced fresh ginger root'}, {'quantity': '1', 'unit': 'tablespoon', 'name': 'curry powder'}, {'quantity': '1', 'unit': 'teaspoon', 'name': 'ground cumin'}, {'quantity': '1', 'unit': 'teaspoon', 'name': 'ground turmeric'}, {'quantity': '1', 'unit': 'teaspoon', 'name': 'ground coriander'}, {'quantity': '1', 'unit': 'teaspoon', 'name': 'cayenne pepper'}, {'quantity': '1', 'unit': 'tablespoon', 'name': 'water'}, {'quantity': '1', 'unit': '(15 ounce) can', 'name': 'crushed tomatoes'}, {'quantity': '1', 'unit': 'cup', 'name': 'plain yogurt'}, {'quantity': '1', 'unit': 'tablespoon', 'name': 'chopped fresh cilantro'}, {'quantity': '1', 'unit': 'teaspoon', 'name': 'salt'}, {'quantity': '½', 'unit': 'cup', 'name': 'water'}, {'quantity': '1', 'unit': 'teaspoon', 'name': 'garam masala'}, {'quantity': '1', 'unit': 'tablespoon', 'name': 'chopped fresh cilantro'}, {'quantity': '1', 'unit': 'tablespoon', 'name': 'fresh lemon juice'}]",
         "['Sprinkle the chicken breasts with 2 teaspoons salt.', 'Heat oil in a large skillet over high heat; partially cook the chicken in the hot oil in batches until completely browned on all sides. Transfer browned chicken breasts to a plate and set aside.', 'Reduce the heat to medium and add onion, garlic, and ginger to the oil remaining in the skillet. Cook and stir until onion turns soft and translucent, 5 to 8 minutes. Stir curry powder, cumin, turmeric, coriander, cayenne, and 1 tablespoon of water into the onion mixture; allow to heat together for about 1 minute while stirring. Add tomatoes, yogurt, 1 tablespoon chopped cilantro, and 1 teaspoon salt to the mixture; stir to combine.', 'Return chicken breast to the skillet along with any juices on the plate. Pour in 1/2 cup water and bring to a boil, turning the chicken to coat with the sauce. Sprinkle garam masala and 1 tablespoon cilantro over the chicken.', 'Cover the skillet and simmer until chicken breasts are no longer pink in the center and the juices run clear, about 20 minutes. An instant-read thermometer inserted into the center should read at least 165 degrees F (74 degrees C). Drizzle with lemon juice to serve.', 'Dotdash Meredith Food Studio']",
         "https://www.allrecipes.com/recipe/212721/indian-chicken-curry-murgh-kari/",
         null,
         "[{'quantity': '2', 'unit': 'pounds', 'name': 'skinless, boneless chicken breast halves'}, {'quantity': '2', 'unit': 'teaspoons', 'name': 'salt'}, {'quantity': '½', 'unit': 'cup', 'name': 'cooking oil'}, {'quantity': '1 ½', 'unit': 'cups', 'name': 'chopped onion'}, {'quantity': '1', 'unit': 'tablespoon', 'name': 'minced garlic'}, {'quantity': '1 ½', 'unit': 'teaspoons', 'name': 'minced fresh ginger root'}, {'quantity': '1', 'unit': 'tablespoon', 'name': 'curry powder'}, {'quantity': '1', 'unit': 'teaspoon', 'name': 'ground cumin'}, {'quantity': '1', 'unit': 'teaspoon', 'name': 'ground turmeric'}, {'quantity': '1', 'unit': 'teaspoon', 'name': 'ground coriander'}, {'quantity': '1', 'unit': 'teaspoon', 'name': 'cayenne pepper'}, {'quantity': '1', 'unit': 'tablespoon', 'name': 'water'}, {'quantity': '1', 'unit': '(15 ounce) can', 'name': 'crushed tomatoes'}, {'quantity': '1', 'unit': 'cup', 'name': 'plain yogurt'}, {'quantity': '1', 'unit': 'tablespoon', 'name': 'chopped fresh cilantro'}, {'quantity': '1', 'unit': 'teaspoon', 'name': 'salt'}, {'quantity': '½', 'unit': 'cup', 'name': 'water'}, {'quantity': '1', 'unit': 'teaspoon', 'name': 'garam masala'}, {'quantity': '1', 'unit': 'tablespoon', 'name': 'chopped fresh cilantro'}, {'quantity': '1', 'unit': 'tablespoon', 'name': 'fresh lemon juice'}]",
         "['skinless, boneless chicken breast halves', 'salt', 'cooking oil', 'chopped onion', 'minced garlic', 'minced fresh ginger root', 'curry powder', 'ground cumin', 'ground turmeric', 'ground coriander', 'cayenne pepper', 'water', 'crushed tomatoes', 'plain yogurt', 'chopped fresh cilantro', 'salt', 'water', 'garam masala', 'chopped fresh cilantro', 'fresh lemon juice']",
         "['skinless boneless chicken breast', 'salt', 'oil', 'onion', 'garlic', 'ginger', 'curry powder', 'ground cumin', 'ground turmeric', 'ground coriander', 'cayenne pepper', 'water', 'tomatoes', 'yogurt', 'chopped fresh cilantro', 'salt', 'water', 'garam masala', 'chopped fresh cilantro', 'lemon juice']"
        ],
        [
         "1",
         "1",
         "Chicken Stir-Fry",
         "20 mins",
         "20 mins",
         "40 mins",
         "6",
         null,
         "[{'quantity': '4', 'unit': 'cups', 'name': 'water'}, {'quantity': '2', 'unit': 'cups', 'name': 'white rice'}, {'quantity': '⅔', 'unit': 'cup', 'name': 'soy sauce'}, {'quantity': '¼', 'unit': 'cup', 'name': 'brown sugar'}, {'quantity': '1', 'unit': 'tablespoon', 'name': 'cornstarch'}, {'quantity': '1', 'unit': 'tablespoon', 'name': 'minced fresh ginger'}, {'quantity': '1', 'unit': 'tablespoon', 'name': 'minced garlic'}, {'quantity': '¼', 'unit': 'teaspoon', 'name': 'red pepper flakes'}, {'quantity': '3', 'unit': '', 'name': 'skinless, boneless chicken breast halves, thinly sliced'}, {'quantity': '2', 'unit': 'tablespoons', 'name': 'sesame oil, divided'}, {'quantity': '1', 'unit': 'head', 'name': 'broccoli, broken into florets'}, {'quantity': '1', 'unit': '', 'name': 'onion, cut into large chunks'}, {'quantity': '1', 'unit': 'cup', 'name': 'sliced carrots'}, {'quantity': '1', 'unit': '(8 ounce) can', 'name': 'sliced water chestnuts, drained'}, {'quantity': '1', 'unit': '', 'name': 'green bell pepper, cut into matchsticks'}]",
         "['Bring water and rice to a boil in a saucepan over high heat. Reduce heat to medium-low, cover, and simmer until rice is tender, and liquid has been absorbed, 20 to 25 minutes.', 'Meanwhile, combine soy sauce, brown sugar, and cornstarch in a medium glass or ceramic bowl; stir until smooth. Stir in ginger, garlic, and red pepper flakes; add chicken and stir to coat. Cover and marinate in the refrigerator for at least 15 minutes.', 'Heat 1 tablespoon sesame oil in a wok or large skillet over medium-high heat. Add broccoli, onion, carrots, water chestnuts, and bell pepper; cook and stir until just tender, about 5 minutes. Transfer vegetables into a dish; set aside.', 'Heat remaining 1 tablespoon sesame oil in the same wok or skillet over medium-high heat. Add chicken, reserving marinade, and cook until just browned, about 2 minutes per side; stir in vegetables and reserved marinade. Bring to a boil; cook and stir until chicken is no longer pink in the center and vegetables are tender, 5 to 7 minutes. Serve over rice.', 'Rita']",
         "https://www.allrecipes.com/recipe/223382/chicken-stir-fry/",
         null,
         "[{'quantity': '4', 'unit': 'cups', 'name': 'water'}, {'quantity': '2', 'unit': 'cups', 'name': 'white rice'}, {'quantity': '⅔', 'unit': 'cup', 'name': 'soy sauce'}, {'quantity': '¼', 'unit': 'cup', 'name': 'brown sugar'}, {'quantity': '1', 'unit': 'tablespoon', 'name': 'cornstarch'}, {'quantity': '1', 'unit': 'tablespoon', 'name': 'minced fresh ginger'}, {'quantity': '1', 'unit': 'tablespoon', 'name': 'minced garlic'}, {'quantity': '¼', 'unit': 'teaspoon', 'name': 'red pepper flakes'}, {'quantity': '3', 'unit': '', 'name': 'skinless, boneless chicken breast halves, thinly sliced'}, {'quantity': '2', 'unit': 'tablespoons', 'name': 'sesame oil, divided'}, {'quantity': '1', 'unit': 'head', 'name': 'broccoli, broken into florets'}, {'quantity': '1', 'unit': '', 'name': 'onion, cut into large chunks'}, {'quantity': '1', 'unit': 'cup', 'name': 'sliced carrots'}, {'quantity': '1', 'unit': '(8 ounce) can', 'name': 'sliced water chestnuts, drained'}, {'quantity': '1', 'unit': '', 'name': 'green bell pepper, cut into matchsticks'}]",
         "['water', 'white rice', 'soy sauce', 'brown sugar', 'cornstarch', 'minced fresh ginger', 'minced garlic', 'red pepper flakes', 'skinless, boneless chicken breast halves, thinly sliced', 'sesame oil, divided', 'broccoli, broken into florets', 'onion, cut into large chunks', 'sliced carrots', 'sliced water chestnuts, drained', 'green bell pepper, cut into matchsticks']",
         "['water', 'rice', 'soy sauce', 'sugar', 'cornstarch', 'minced fresh ginger', 'garlic', 'pepper flakes', 'skinless boneless chicken breast', 'sesame oil', 'broccoli', 'onion', 'carrots', 'water chestnuts', 'green bell pepper']"
        ],
        [
         "2",
         "2",
         "Jambalaya",
         "20 mins",
         "45 mins",
         "1 hrs 5 mins",
         "6",
         "6 servings",
         "[{'quantity': '2', 'unit': 'tablespoons', 'name': 'peanut oil, divided'}, {'quantity': '1', 'unit': 'tablespoon', 'name': 'Cajun seasoning'}, {'quantity': '10', 'unit': 'ounces', 'name': 'andouille sausage, sliced into rounds'}, {'quantity': '1', 'unit': 'pound', 'name': 'boneless skinless chicken breasts, cut into 1 inch pieces'}, {'quantity': '1', 'unit': '', 'name': 'onion, diced'}, {'quantity': '1', 'unit': 'small', 'name': 'green bell pepper, diced'}, {'quantity': '2', 'unit': 'stalks', 'name': 'celery, diced'}, {'quantity': '3', 'unit': 'cloves', 'name': 'garlic, minced'}, {'quantity': '1', 'unit': '(16 ounce) can', 'name': 'crushed Italian tomatoes'}, {'quantity': '½', 'unit': 'teaspoon', 'name': 'red pepper flakes'}, {'quantity': '½', 'unit': 'teaspoon', 'name': 'ground black pepper'}, {'quantity': '1', 'unit': 'teaspoon', 'name': 'salt'}, {'quantity': '½', 'unit': 'teaspoon', 'name': 'hot pepper sauce'}, {'quantity': '2', 'unit': 'teaspoons', 'name': 'Worcestershire sauce'}, {'quantity': '1', 'unit': 'teaspoon', 'name': 'file powder'}, {'quantity': '1 ¼', 'unit': 'cups', 'name': 'uncooked white rice'}, {'quantity': '2 ½', 'unit': 'cups', 'name': 'chicken broth'}]",
         "['Heat 1 tablespoon of peanut oil in a large heavy Dutch oven over medium heat. Season the sausage and chicken pieces with Cajun seasoning. Saute sausage until browned. Remove with slotted spoon, and set aside. Add 1 tablespoon peanut oil, and saute chicken pieces until lightly browned on all sides. Remove with a slotted spoon, and set aside.', 'In the same pot, saute onion, bell pepper, celery and garlic until tender. Stir in crushed tomatoes, and season with red pepper, black pepper, salt, hot pepper sauce, Worcestershire sauce and file powder. Stir in chicken and sausage. Cook for 10 minutes, stirring occasionally.', 'Stir in the rice and chicken broth. Bring to a boil, reduce heat, and simmer for 20 to 25 minutes, or until liquid is absorbed.', 'Meredith']",
         "https://www.allrecipes.com/recipe/31848/jambalaya/",
         null,
         "[{'quantity': '2', 'unit': 'tablespoons', 'name': 'peanut oil, divided'}, {'quantity': '1', 'unit': 'tablespoon', 'name': 'Cajun seasoning'}, {'quantity': '10', 'unit': 'ounces', 'name': 'andouille sausage, sliced into rounds'}, {'quantity': '1', 'unit': 'pound', 'name': 'boneless skinless chicken breasts, cut into 1 inch pieces'}, {'quantity': '1', 'unit': '', 'name': 'onion, diced'}, {'quantity': '1', 'unit': 'small', 'name': 'green bell pepper, diced'}, {'quantity': '2', 'unit': 'stalks', 'name': 'celery, diced'}, {'quantity': '3', 'unit': 'cloves', 'name': 'garlic, minced'}, {'quantity': '1', 'unit': '(16 ounce) can', 'name': 'crushed Italian tomatoes'}, {'quantity': '½', 'unit': 'teaspoon', 'name': 'red pepper flakes'}, {'quantity': '½', 'unit': 'teaspoon', 'name': 'ground black pepper'}, {'quantity': '1', 'unit': 'teaspoon', 'name': 'salt'}, {'quantity': '½', 'unit': 'teaspoon', 'name': 'hot pepper sauce'}, {'quantity': '2', 'unit': 'teaspoons', 'name': 'Worcestershire sauce'}, {'quantity': '1', 'unit': 'teaspoon', 'name': 'file powder'}, {'quantity': '1 ¼', 'unit': 'cups', 'name': 'uncooked white rice'}, {'quantity': '2 ½', 'unit': 'cups', 'name': 'chicken broth'}]",
         "['peanut oil, divided', 'Cajun seasoning', 'andouille sausage, sliced into rounds', 'boneless skinless chicken breasts, cut into 1 inch pieces', 'onion, diced', 'green bell pepper, diced', 'celery, diced', 'garlic, minced', 'crushed Italian tomatoes', 'red pepper flakes', 'ground black pepper', 'salt', 'hot pepper sauce', 'Worcestershire sauce', 'file powder', 'uncooked white rice', 'chicken broth']",
         "['peanut oil', 'cajun seasoning', 'andouille sausage', 'boneless skinless chicken breasts inch', 'onion', 'green bell pepper', 'celery', 'garlic', 'crushed Italian tomatoes', 'pepper flakes', 'pepper', 'salt', 'pepper sauce', 'worcestershire sauce', 'file powder', 'rice', 'chicken broth']"
        ],
        [
         "3",
         "3",
         "Chicken Katsu",
         "10 mins",
         "10 mins",
         "20 mins",
         "4",
         "4 servings",
         "[{'quantity': '4', 'unit': '', 'name': 'skinless, boneless chicken breast halves - pounded to 1/2 inch thickness'}, {'quantity': '', 'unit': '', 'name': 'salt and pepper to taste'}, {'quantity': '2', 'unit': 'tablespoons', 'name': 'all-purpose flour'}, {'quantity': '1', 'unit': '', 'name': 'egg, beaten'}, {'quantity': '1', 'unit': 'cup', 'name': 'panko bread crumbs'}, {'quantity': '1', 'unit': 'cup', 'name': 'oil for frying, or as needed'}]",
         "['Season the chicken breasts on both sides with salt and pepper. Place the flour, egg and panko crumbs into separate shallow dishes. Coat the chicken breasts in flour, shaking off any excess. Dip them into the egg, and then press into the panko crumbs until well coated on both sides.', 'Heat 1/4 inch of oil in a large skillet over medium-high heat. Place chicken in the hot oil, and cook 3 or 4 minutes per side, or until golden brown.', 'Mitsuha Kirigaija', \"   Editor's Note:  \", 'Try serving this with Japanese salad dressing for dipping.']",
         "https://www.allrecipes.com/recipe/72068/chicken-katsu/",
         null,
         "[{'quantity': '4', 'unit': '', 'name': 'skinless, boneless chicken breast halves - pounded to 1/2 inch thickness'}, {'quantity': '', 'unit': '', 'name': 'salt and pepper to taste'}, {'quantity': '2', 'unit': 'tablespoons', 'name': 'all-purpose flour'}, {'quantity': '1', 'unit': '', 'name': 'egg, beaten'}, {'quantity': '1', 'unit': 'cup', 'name': 'panko bread crumbs'}, {'quantity': '1', 'unit': 'cup', 'name': 'oil for frying, or as needed'}]",
         "['skinless, boneless chicken breast halves - pounded to 1/2 inch thickness', 'salt and pepper to taste', 'all-purpose flour', 'egg, beaten', 'panko bread crumbs', 'oil for frying, or as needed']",
         "['skinless boneless chicken breast', 'salt', 'purpose flour', 'egg, beaten', 'bread crumbs', 'oil']"
        ],
        [
         "4",
         "4",
         "Simple Baked Chicken Breasts",
         "10 mins",
         "25 mins",
         "35 mins",
         "4",
         null,
         "[{'quantity': '4', 'unit': '(5 ounce)', 'name': 'skinless, boneless chicken breast halves'}, {'quantity': '2', 'unit': 'tablespoons', 'name': 'olive oil'}, {'quantity': '½', 'unit': 'teaspoon', 'name': 'coarse sea salt, or to taste'}, {'quantity': '1', 'unit': 'pinch', 'name': \"Creole seasoning (such as Tony Chachere's®), or more to taste\"}, {'quantity': '1', 'unit': 'tablespoon', 'name': 'chicken broth, or more to taste'}]",
         "['Preheat the oven to 400 degrees F (200 degrees C).', 'Rub chicken breasts with olive oil and sprinkle both sides with salt and Creole seasoning. Place chicken in a broiler pan.', 'Bake in the preheated oven for 10 minutes. Flip chicken and cook until no longer pink in the center and the juices run clear, about 15 minutes more. An instant-read thermometer inserted into the center should read at least 165 degrees F (74 degrees C).', 'Remove chicken to a plate.', 'Pour chicken broth into the pan and scrape any browned bits off the bottom with a flat-edged wooden spatula. Add more broth if needed to dislodge the browned bits, but not too much or it will be watery.', 'To serve, drizzle the pan sauce over the chicken.', 'Dotdash Meredith Food Studios', '   Tips  ', 'You can use water instead of chicken broth for the pan sauce.', \"   Editor's Note:  \", \"This recipe originally called for 1 tablespoon of salt. After many reviews, we've modified the amount to be 1/2 teaspoon, or to taste.\"]",
         "https://www.allrecipes.com/recipe/240208/simple-baked-chicken-breasts/",
         null,
         "[{'quantity': '4', 'unit': '(5 ounce)', 'name': 'skinless, boneless chicken breast halves'}, {'quantity': '2', 'unit': 'tablespoons', 'name': 'olive oil'}, {'quantity': '½', 'unit': 'teaspoon', 'name': 'coarse sea salt, or to taste'}, {'quantity': '1', 'unit': 'pinch', 'name': \"Creole seasoning (such as Tony Chachere's®), or more to taste\"}, {'quantity': '1', 'unit': 'tablespoon', 'name': 'chicken broth, or more to taste'}]",
         "['skinless, boneless chicken breast halves', 'olive oil', 'coarse sea salt, or to taste', \"Creole seasoning (such as Tony Chachere's®), or more to taste\", 'chicken broth, or more to taste']",
         "['skinless boneless chicken breast', 'oil', 'sea salt', 'creole seasoning tony', 'chicken broth']"
        ]
       ],
       "shape": {
        "columns": 14,
        "rows": 5
       }
      },
      "text/html": [
       "<div>\n",
       "<style scoped>\n",
       "    .dataframe tbody tr th:only-of-type {\n",
       "        vertical-align: middle;\n",
       "    }\n",
       "\n",
       "    .dataframe tbody tr th {\n",
       "        vertical-align: top;\n",
       "    }\n",
       "\n",
       "    .dataframe thead th {\n",
       "        text-align: right;\n",
       "    }\n",
       "</style>\n",
       "<table border=\"1\" class=\"dataframe\">\n",
       "  <thead>\n",
       "    <tr style=\"text-align: right;\">\n",
       "      <th></th>\n",
       "      <th>Row</th>\n",
       "      <th>Name</th>\n",
       "      <th>Prep Time</th>\n",
       "      <th>Cook Time</th>\n",
       "      <th>Total Time</th>\n",
       "      <th>Servings</th>\n",
       "      <th>Yield</th>\n",
       "      <th>Ingredients</th>\n",
       "      <th>Directions</th>\n",
       "      <th>url</th>\n",
       "      <th>Additional Time</th>\n",
       "      <th>Ingredient_list</th>\n",
       "      <th>Ingredient_names</th>\n",
       "      <th>Simplified_ingredient_names</th>\n",
       "    </tr>\n",
       "  </thead>\n",
       "  <tbody>\n",
       "    <tr>\n",
       "      <th>0</th>\n",
       "      <td>0</td>\n",
       "      <td>Indian Chicken Curry (Murgh Kari)</td>\n",
       "      <td>20 mins</td>\n",
       "      <td>40 mins</td>\n",
       "      <td>1 hrs</td>\n",
       "      <td>6</td>\n",
       "      <td>6 servings</td>\n",
       "      <td>[{'quantity': '2', 'unit': 'pounds', 'name': '...</td>\n",
       "      <td>['Sprinkle the chicken breasts with 2 teaspoon...</td>\n",
       "      <td>https://www.allrecipes.com/recipe/212721/india...</td>\n",
       "      <td>NaN</td>\n",
       "      <td>[{'quantity': '2', 'unit': 'pounds', 'name': '...</td>\n",
       "      <td>[skinless, boneless chicken breast halves, sal...</td>\n",
       "      <td>[skinless boneless chicken breast, salt, oil, ...</td>\n",
       "    </tr>\n",
       "    <tr>\n",
       "      <th>1</th>\n",
       "      <td>1</td>\n",
       "      <td>Chicken Stir-Fry</td>\n",
       "      <td>20 mins</td>\n",
       "      <td>20 mins</td>\n",
       "      <td>40 mins</td>\n",
       "      <td>6</td>\n",
       "      <td>NaN</td>\n",
       "      <td>[{'quantity': '4', 'unit': 'cups', 'name': 'wa...</td>\n",
       "      <td>['Bring water and rice to a boil in a saucepan...</td>\n",
       "      <td>https://www.allrecipes.com/recipe/223382/chick...</td>\n",
       "      <td>NaN</td>\n",
       "      <td>[{'quantity': '4', 'unit': 'cups', 'name': 'wa...</td>\n",
       "      <td>[water, white rice, soy sauce, brown sugar, co...</td>\n",
       "      <td>[water, rice, soy sauce, sugar, cornstarch, mi...</td>\n",
       "    </tr>\n",
       "    <tr>\n",
       "      <th>2</th>\n",
       "      <td>2</td>\n",
       "      <td>Jambalaya</td>\n",
       "      <td>20 mins</td>\n",
       "      <td>45 mins</td>\n",
       "      <td>1 hrs 5 mins</td>\n",
       "      <td>6</td>\n",
       "      <td>6 servings</td>\n",
       "      <td>[{'quantity': '2', 'unit': 'tablespoons', 'nam...</td>\n",
       "      <td>['Heat 1 tablespoon of peanut oil in a large h...</td>\n",
       "      <td>https://www.allrecipes.com/recipe/31848/jambal...</td>\n",
       "      <td>NaN</td>\n",
       "      <td>[{'quantity': '2', 'unit': 'tablespoons', 'nam...</td>\n",
       "      <td>[peanut oil, divided, Cajun seasoning, andouil...</td>\n",
       "      <td>[peanut oil, cajun seasoning, andouille sausag...</td>\n",
       "    </tr>\n",
       "    <tr>\n",
       "      <th>3</th>\n",
       "      <td>3</td>\n",
       "      <td>Chicken Katsu</td>\n",
       "      <td>10 mins</td>\n",
       "      <td>10 mins</td>\n",
       "      <td>20 mins</td>\n",
       "      <td>4</td>\n",
       "      <td>4 servings</td>\n",
       "      <td>[{'quantity': '4', 'unit': '', 'name': 'skinle...</td>\n",
       "      <td>['Season the chicken breasts on both sides wit...</td>\n",
       "      <td>https://www.allrecipes.com/recipe/72068/chicke...</td>\n",
       "      <td>NaN</td>\n",
       "      <td>[{'quantity': '4', 'unit': '', 'name': 'skinle...</td>\n",
       "      <td>[skinless, boneless chicken breast halves - po...</td>\n",
       "      <td>[skinless boneless chicken breast, salt, purpo...</td>\n",
       "    </tr>\n",
       "    <tr>\n",
       "      <th>4</th>\n",
       "      <td>4</td>\n",
       "      <td>Simple Baked Chicken Breasts</td>\n",
       "      <td>10 mins</td>\n",
       "      <td>25 mins</td>\n",
       "      <td>35 mins</td>\n",
       "      <td>4</td>\n",
       "      <td>NaN</td>\n",
       "      <td>[{'quantity': '4', 'unit': '(5 ounce)', 'name'...</td>\n",
       "      <td>['Preheat the oven to 400 degrees F (200 degre...</td>\n",
       "      <td>https://www.allrecipes.com/recipe/240208/simpl...</td>\n",
       "      <td>NaN</td>\n",
       "      <td>[{'quantity': '4', 'unit': '(5 ounce)', 'name'...</td>\n",
       "      <td>[skinless, boneless chicken breast halves, oli...</td>\n",
       "      <td>[skinless boneless chicken breast, oil, sea sa...</td>\n",
       "    </tr>\n",
       "  </tbody>\n",
       "</table>\n",
       "</div>"
      ],
      "text/plain": [
       "   Row                               Name Prep Time Cook Time    Total Time  \\\n",
       "0    0  Indian Chicken Curry (Murgh Kari)   20 mins   40 mins         1 hrs   \n",
       "1    1                   Chicken Stir-Fry   20 mins   20 mins       40 mins   \n",
       "2    2                          Jambalaya   20 mins   45 mins  1 hrs 5 mins   \n",
       "3    3                      Chicken Katsu   10 mins   10 mins       20 mins   \n",
       "4    4       Simple Baked Chicken Breasts   10 mins   25 mins       35 mins   \n",
       "\n",
       "   Servings       Yield                                        Ingredients  \\\n",
       "0         6  6 servings  [{'quantity': '2', 'unit': 'pounds', 'name': '...   \n",
       "1         6         NaN  [{'quantity': '4', 'unit': 'cups', 'name': 'wa...   \n",
       "2         6  6 servings  [{'quantity': '2', 'unit': 'tablespoons', 'nam...   \n",
       "3         4  4 servings  [{'quantity': '4', 'unit': '', 'name': 'skinle...   \n",
       "4         4         NaN  [{'quantity': '4', 'unit': '(5 ounce)', 'name'...   \n",
       "\n",
       "                                          Directions  \\\n",
       "0  ['Sprinkle the chicken breasts with 2 teaspoon...   \n",
       "1  ['Bring water and rice to a boil in a saucepan...   \n",
       "2  ['Heat 1 tablespoon of peanut oil in a large h...   \n",
       "3  ['Season the chicken breasts on both sides wit...   \n",
       "4  ['Preheat the oven to 400 degrees F (200 degre...   \n",
       "\n",
       "                                                 url Additional Time  \\\n",
       "0  https://www.allrecipes.com/recipe/212721/india...             NaN   \n",
       "1  https://www.allrecipes.com/recipe/223382/chick...             NaN   \n",
       "2  https://www.allrecipes.com/recipe/31848/jambal...             NaN   \n",
       "3  https://www.allrecipes.com/recipe/72068/chicke...             NaN   \n",
       "4  https://www.allrecipes.com/recipe/240208/simpl...             NaN   \n",
       "\n",
       "                                     Ingredient_list  \\\n",
       "0  [{'quantity': '2', 'unit': 'pounds', 'name': '...   \n",
       "1  [{'quantity': '4', 'unit': 'cups', 'name': 'wa...   \n",
       "2  [{'quantity': '2', 'unit': 'tablespoons', 'nam...   \n",
       "3  [{'quantity': '4', 'unit': '', 'name': 'skinle...   \n",
       "4  [{'quantity': '4', 'unit': '(5 ounce)', 'name'...   \n",
       "\n",
       "                                    Ingredient_names  \\\n",
       "0  [skinless, boneless chicken breast halves, sal...   \n",
       "1  [water, white rice, soy sauce, brown sugar, co...   \n",
       "2  [peanut oil, divided, Cajun seasoning, andouil...   \n",
       "3  [skinless, boneless chicken breast halves - po...   \n",
       "4  [skinless, boneless chicken breast halves, oli...   \n",
       "\n",
       "                         Simplified_ingredient_names  \n",
       "0  [skinless boneless chicken breast, salt, oil, ...  \n",
       "1  [water, rice, soy sauce, sugar, cornstarch, mi...  \n",
       "2  [peanut oil, cajun seasoning, andouille sausag...  \n",
       "3  [skinless boneless chicken breast, salt, purpo...  \n",
       "4  [skinless boneless chicken breast, oil, sea sa...  "
      ]
     },
     "metadata": {},
     "output_type": "display_data"
    }
   ],
   "source": [
    "#df['Ingredient_names'] = df['Ingredient_list'].apply(lambda x: [d['name'] for d in x])\n",
    "#type(df[\"Ingredient_names\"][0][0])\n",
    "\n",
    "import pandas as pd\n",
    "import ast\n",
    "import spacy\n",
    "\n",
    "# Load spaCy's English NLP model\n",
    "nlp = spacy.load(\"en_core_web_sm\")\n",
    "\n",
    "# Function to extract main ingredient names dynamically\n",
    "def extract_main_ingredient(name):\n",
    "    doc = nlp(name)\n",
    "    ingredient_words = []\n",
    "\n",
    "    for token in doc:\n",
    "        # Keep only NOUNs and PROPNs (proper nouns), ignoring adjectives and descriptors\n",
    "        if token.pos_ in [\"NOUN\", \"PROPN\"] and token.dep_ in [\"compound\", \"ROOT\", \"attr\", \"nsubj\"]:\n",
    "            ingredient_words.append(token.text.lower())\n",
    "\n",
    "    # Join multi-word ingredient names\n",
    "    cleaned_name = \" \".join(ingredient_words).strip()\n",
    "    \n",
    "    return cleaned_name if cleaned_name else name  # Fallback to original name if extraction fails\n",
    "\n",
    "# Function to process a DataFrame with an 'Ingredient_list' column\n",
    "def clean_ingredient_names(df, ingredient_col=\"Ingredient_list\"):\n",
    "    # Ensure column contains lists of dictionaries\n",
    "    df[ingredient_col] = df[ingredient_col].apply(lambda x: ast.literal_eval(x) if isinstance(x, str) else x)\n",
    "\n",
    "    # Extract original ingredient names from dictionaries\n",
    "    df['Ingredient_names'] = df[ingredient_col].apply(lambda x: [d['name'] for d in x])\n",
    "\n",
    "    # Extract cleaned ingredient names dynamically\n",
    "    df['Simplified_ingredient_names'] = df['Ingredient_names'].apply(lambda x: [extract_main_ingredient(name) for name in x])\n",
    "\n",
    "    return df\n",
    "\n",
    "# Example usage (assuming df has an 'Ingredient_list' column)\n",
    "df = clean_ingredient_names(df)\n",
    "\n",
    "# View only the cleaned column\n",
    "df\n",
    "\n",
    "display(df)"
   ]
  },
  {
   "cell_type": "code",
   "execution_count": 15,
   "metadata": {},
   "outputs": [
    {
     "data": {
      "text/plain": [
       "str"
      ]
     },
     "execution_count": 15,
     "metadata": {},
     "output_type": "execute_result"
    }
   ],
   "source": [
    "df['Ingredient_names'] = df['Ingredient_list'].apply(lambda x: [d['name'] for d in x])\n",
    "type(df[\"Ingredient_names\"][0][0])"
   ]
  },
  {
   "cell_type": "code",
   "execution_count": 16,
   "metadata": {},
   "outputs": [
    {
     "data": {
      "text/plain": [
       "{'Cajun seasoning',\n",
       " \"Creole seasoning (such as Tony Chachere's®), or more to taste\",\n",
       " 'Worcestershire sauce',\n",
       " 'all-purpose flour',\n",
       " 'andouille sausage, sliced into rounds',\n",
       " 'boneless skinless chicken breasts, cut into 1 inch pieces',\n",
       " 'broccoli, broken into florets',\n",
       " 'brown sugar',\n",
       " 'cayenne pepper',\n",
       " 'celery, diced',\n",
       " 'chicken broth',\n",
       " 'chicken broth, or more to taste',\n",
       " 'chopped fresh cilantro',\n",
       " 'chopped onion',\n",
       " 'coarse sea salt, or to taste',\n",
       " 'cooking oil',\n",
       " 'cornstarch',\n",
       " 'crushed Italian tomatoes',\n",
       " 'crushed tomatoes',\n",
       " 'curry powder',\n",
       " 'egg, beaten',\n",
       " 'file powder',\n",
       " 'fresh lemon juice',\n",
       " 'garam masala',\n",
       " 'garlic, minced',\n",
       " 'green bell pepper, cut into matchsticks',\n",
       " 'green bell pepper, diced',\n",
       " 'ground black pepper',\n",
       " 'ground coriander',\n",
       " 'ground cumin',\n",
       " 'ground turmeric',\n",
       " 'hot pepper sauce',\n",
       " 'minced fresh ginger',\n",
       " 'minced fresh ginger root',\n",
       " 'minced garlic',\n",
       " 'oil for frying, or as needed',\n",
       " 'olive oil',\n",
       " 'onion, cut into large chunks',\n",
       " 'onion, diced',\n",
       " 'panko bread crumbs',\n",
       " 'peanut oil, divided',\n",
       " 'plain yogurt',\n",
       " 'red pepper flakes',\n",
       " 'salt',\n",
       " 'salt and pepper to taste',\n",
       " 'sesame oil, divided',\n",
       " 'skinless, boneless chicken breast halves',\n",
       " 'skinless, boneless chicken breast halves - pounded to 1/2 inch thickness',\n",
       " 'skinless, boneless chicken breast halves, thinly sliced',\n",
       " 'sliced carrots',\n",
       " 'sliced water chestnuts, drained',\n",
       " 'soy sauce',\n",
       " 'uncooked white rice',\n",
       " 'water',\n",
       " 'white rice'}"
      ]
     },
     "execution_count": 16,
     "metadata": {},
     "output_type": "execute_result"
    }
   ],
   "source": [
    "ingredient_set = set()\n",
    "for ingredient_list in df[\"Ingredient_names\"]:\n",
    "    for ingredient in ingredient_list:\n",
    "        ingredient_set.add(ingredient)\n",
    "ingredient_set"
   ]
  },
  {
   "cell_type": "code",
   "execution_count": 17,
   "metadata": {},
   "outputs": [
    {
     "name": "stdout",
     "output_type": "stream",
     "text": [
      "0: skinless, boneless chicken breast halves\n",
      "1: water\n",
      "2: peanut oil, divided\n",
      "3: skinless, boneless chicken breast halves - pounded to 1/2 inch thickness\n",
      "4: skinless, boneless chicken breast halves\n",
      "You picked water\n",
      "   Row                               Name Prep Time Cook Time Total Time  \\\n",
      "0    0  Indian Chicken Curry (Murgh Kari)   20 mins   40 mins      1 hrs   \n",
      "1    1                   Chicken Stir-Fry   20 mins   20 mins    40 mins   \n",
      "\n",
      "   Servings       Yield                                        Ingredients  \\\n",
      "0         6  6 servings  [{'quantity': '2', 'unit': 'pounds', 'name': '...   \n",
      "1         6         NaN  [{'quantity': '4', 'unit': 'cups', 'name': 'wa...   \n",
      "\n",
      "                                          Directions  \\\n",
      "0  ['Sprinkle the chicken breasts with 2 teaspoon...   \n",
      "1  ['Bring water and rice to a boil in a saucepan...   \n",
      "\n",
      "                                                 url Additional Time  \\\n",
      "0  https://www.allrecipes.com/recipe/212721/india...             NaN   \n",
      "1  https://www.allrecipes.com/recipe/223382/chick...             NaN   \n",
      "\n",
      "                                     Ingredient_list  \\\n",
      "0  [{'quantity': '2', 'unit': 'pounds', 'name': '...   \n",
      "1  [{'quantity': '4', 'unit': 'cups', 'name': 'wa...   \n",
      "\n",
      "                                    Ingredient_names  \\\n",
      "0  [skinless, boneless chicken breast halves, sal...   \n",
      "1  [water, white rice, soy sauce, brown sugar, co...   \n",
      "\n",
      "                         Simplified_ingredient_names  \n",
      "0  [skinless boneless chicken breast, salt, oil, ...  \n",
      "1  [water, rice, soy sauce, sugar, cornstarch, mi...  \n"
     ]
    }
   ],
   "source": [
    "ingredient_options = [df[\"Ingredient_names\"][i][0] for i in range(len(df))]\n",
    "\n",
    "for i in range(len(ingredient_options)):\n",
    "    print(f\"{i}: {ingredient_options[i]}\")\n",
    "\n",
    "choice = int(input(\"Enter the number of the ingredient you have: \"))\n",
    "print(\"You picked\", ingredient_options[choice])\n",
    "\n",
    "# recommend a recipe\n",
    "recipe_options = df[df[\"Ingredient_names\"].apply(lambda x: ingredient_options[choice] in x)]\n",
    "print(recipe_options)"
   ]
  },
  {
   "cell_type": "code",
   "execution_count": 18,
   "metadata": {},
   "outputs": [
    {
     "name": "stdout",
     "output_type": "stream",
     "text": [
      "['skinless', 'boneless chicken breast halves']\n"
     ]
    },
    {
     "data": {
      "text/html": [
       "<span class=\"tex2jax_ignore\"><svg xmlns=\"http://www.w3.org/2000/svg\" xmlns:xlink=\"http://www.w3.org/1999/xlink\" xml:lang=\"en\" id=\"9f26399b4d8a4b40b97a5040b02c37d0-0\" class=\"displacy\" width=\"925\" height=\"399.5\" direction=\"ltr\" style=\"max-width: none; height: 399.5px; color: #000000; background: #ffffff; font-family: Arial; direction: ltr\">\n",
       "<text class=\"displacy-token\" fill=\"currentColor\" text-anchor=\"middle\" y=\"309.5\">\n",
       "    <tspan class=\"displacy-word\" fill=\"currentColor\" x=\"50\">skinless,</tspan>\n",
       "    <tspan class=\"displacy-tag\" dy=\"2em\" fill=\"currentColor\" x=\"50\">NOUN</tspan>\n",
       "</text>\n",
       "\n",
       "<text class=\"displacy-token\" fill=\"currentColor\" text-anchor=\"middle\" y=\"309.5\">\n",
       "    <tspan class=\"displacy-word\" fill=\"currentColor\" x=\"225\">boneless</tspan>\n",
       "    <tspan class=\"displacy-tag\" dy=\"2em\" fill=\"currentColor\" x=\"225\">NOUN</tspan>\n",
       "</text>\n",
       "\n",
       "<text class=\"displacy-token\" fill=\"currentColor\" text-anchor=\"middle\" y=\"309.5\">\n",
       "    <tspan class=\"displacy-word\" fill=\"currentColor\" x=\"400\">chicken</tspan>\n",
       "    <tspan class=\"displacy-tag\" dy=\"2em\" fill=\"currentColor\" x=\"400\">NOUN</tspan>\n",
       "</text>\n",
       "\n",
       "<text class=\"displacy-token\" fill=\"currentColor\" text-anchor=\"middle\" y=\"309.5\">\n",
       "    <tspan class=\"displacy-word\" fill=\"currentColor\" x=\"575\">breast</tspan>\n",
       "    <tspan class=\"displacy-tag\" dy=\"2em\" fill=\"currentColor\" x=\"575\">PROPN</tspan>\n",
       "</text>\n",
       "\n",
       "<text class=\"displacy-token\" fill=\"currentColor\" text-anchor=\"middle\" y=\"309.5\">\n",
       "    <tspan class=\"displacy-word\" fill=\"currentColor\" x=\"750\">halves</tspan>\n",
       "    <tspan class=\"displacy-tag\" dy=\"2em\" fill=\"currentColor\" x=\"750\">NOUN</tspan>\n",
       "</text>\n",
       "\n",
       "<g class=\"displacy-arrow\">\n",
       "    <path class=\"displacy-arc\" id=\"arrow-9f26399b4d8a4b40b97a5040b02c37d0-0-0\" stroke-width=\"2px\" d=\"M245,264.5 C245,89.5 745.0,89.5 745.0,264.5\" fill=\"none\" stroke=\"currentColor\"/>\n",
       "    <text dy=\"1.25em\" style=\"font-size: 0.8em; letter-spacing: 1px\">\n",
       "        <textPath xlink:href=\"#arrow-9f26399b4d8a4b40b97a5040b02c37d0-0-0\" class=\"displacy-label\" startOffset=\"50%\" side=\"left\" fill=\"currentColor\" text-anchor=\"middle\">compound</textPath>\n",
       "    </text>\n",
       "    <path class=\"displacy-arrowhead\" d=\"M245,266.5 L237,254.5 253,254.5\" fill=\"currentColor\"/>\n",
       "</g>\n",
       "\n",
       "<g class=\"displacy-arrow\">\n",
       "    <path class=\"displacy-arc\" id=\"arrow-9f26399b4d8a4b40b97a5040b02c37d0-0-1\" stroke-width=\"2px\" d=\"M420,264.5 C420,177.0 565.0,177.0 565.0,264.5\" fill=\"none\" stroke=\"currentColor\"/>\n",
       "    <text dy=\"1.25em\" style=\"font-size: 0.8em; letter-spacing: 1px\">\n",
       "        <textPath xlink:href=\"#arrow-9f26399b4d8a4b40b97a5040b02c37d0-0-1\" class=\"displacy-label\" startOffset=\"50%\" side=\"left\" fill=\"currentColor\" text-anchor=\"middle\">compound</textPath>\n",
       "    </text>\n",
       "    <path class=\"displacy-arrowhead\" d=\"M420,266.5 L412,254.5 428,254.5\" fill=\"currentColor\"/>\n",
       "</g>\n",
       "\n",
       "<g class=\"displacy-arrow\">\n",
       "    <path class=\"displacy-arc\" id=\"arrow-9f26399b4d8a4b40b97a5040b02c37d0-0-2\" stroke-width=\"2px\" d=\"M595,264.5 C595,177.0 740.0,177.0 740.0,264.5\" fill=\"none\" stroke=\"currentColor\"/>\n",
       "    <text dy=\"1.25em\" style=\"font-size: 0.8em; letter-spacing: 1px\">\n",
       "        <textPath xlink:href=\"#arrow-9f26399b4d8a4b40b97a5040b02c37d0-0-2\" class=\"displacy-label\" startOffset=\"50%\" side=\"left\" fill=\"currentColor\" text-anchor=\"middle\">compound</textPath>\n",
       "    </text>\n",
       "    <path class=\"displacy-arrowhead\" d=\"M595,266.5 L587,254.5 603,254.5\" fill=\"currentColor\"/>\n",
       "</g>\n",
       "\n",
       "<g class=\"displacy-arrow\">\n",
       "    <path class=\"displacy-arc\" id=\"arrow-9f26399b4d8a4b40b97a5040b02c37d0-0-3\" stroke-width=\"2px\" d=\"M70,264.5 C70,2.0 750.0,2.0 750.0,264.5\" fill=\"none\" stroke=\"currentColor\"/>\n",
       "    <text dy=\"1.25em\" style=\"font-size: 0.8em; letter-spacing: 1px\">\n",
       "        <textPath xlink:href=\"#arrow-9f26399b4d8a4b40b97a5040b02c37d0-0-3\" class=\"displacy-label\" startOffset=\"50%\" side=\"left\" fill=\"currentColor\" text-anchor=\"middle\">appos</textPath>\n",
       "    </text>\n",
       "    <path class=\"displacy-arrowhead\" d=\"M750.0,266.5 L758.0,254.5 742.0,254.5\" fill=\"currentColor\"/>\n",
       "</g>\n",
       "</svg></span>"
      ],
      "text/plain": [
       "<IPython.core.display.HTML object>"
      ]
     },
     "metadata": {},
     "output_type": "display_data"
    }
   ],
   "source": [
    "item = \"skinless, boneless chicken breast halves\"\n",
    "nlp = spacy.load(\"en_core_web_sm\")\n",
    "\n",
    "doc = nlp(item)\n",
    "print([chunk.text for chunk in doc.noun_chunks])\n",
    "spacy.displacy.render(doc)"
   ]
  },
  {
   "cell_type": "code",
   "execution_count": 19,
   "metadata": {},
   "outputs": [
    {
     "name": "stdout",
     "output_type": "stream",
     "text": [
      "skinless\n",
      "boneless chicken breast halves\n"
     ]
    }
   ],
   "source": [
    "for np in doc.noun_chunks:\n",
    "    print(np.text)"
   ]
  }
 ],
 "metadata": {
  "kernelspec": {
   "display_name": "Python 3",
   "language": "python",
   "name": "python3"
  },
  "language_info": {
   "codemirror_mode": {
    "name": "ipython",
    "version": 3
   },
   "file_extension": ".py",
   "mimetype": "text/x-python",
   "name": "python",
   "nbconvert_exporter": "python",
   "pygments_lexer": "ipython3",
   "version": "3.11.4"
  }
 },
 "nbformat": 4,
 "nbformat_minor": 2
}

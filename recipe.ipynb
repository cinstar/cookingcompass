{
 "cells": [
  {
   "cell_type": "code",
   "execution_count": null,
   "metadata": {},
   "outputs": [
    {
     "ename": "",
     "evalue": "",
     "output_type": "error",
     "traceback": [
      "\u001b[1;31mRunning cells with '.venv (Python 3.11.4)' requires the ipykernel package.\n",
      "\u001b[1;31mRun the following command to install 'ipykernel' into the Python environment. \n",
      "\u001b[1;31mCommand: '\"/Users/veronicastrempfer/Library/Mobile Documents/com~apple~CloudDocs/DSProject/cookingcompass/.venv/bin/python\" -m pip install ipykernel -U --force-reinstall'"
     ]
    }
   ],
   "source": [
    "import pandas as pd\n",
    "import ast\n",
    "import spacy"
   ]
  },
  {
   "cell_type": "code",
   "execution_count": null,
   "metadata": {},
   "outputs": [],
   "source": [
    "df = pd.read_csv(\"data/test_recipes.csv\").head()\n",
    "df"
   ]
  },
  {
   "cell_type": "code",
   "execution_count": null,
   "metadata": {},
   "outputs": [],
   "source": [
    "data_str = \"[{'quantity': '2', 'unit': 'pounds', 'name': 'skinless, boneless chicken breast halves'}, {'quantity': '2', 'unit': 'teaspoons', 'name': 'salt'}, {'quantity': '½', 'unit': 'cup', 'name': 'cooking oil'}, {'quantity': '1 ½', 'unit': 'cups', 'name': 'chopped onion'}, {'quantity': '1', 'unit': 'tablespoon', 'name': 'minced garlic'}, {'quantity': '1 ½', 'unit': 'teaspoons', 'name': 'minced fresh ginger root'}, {'quantity': '1', 'unit': 'tablespoon', 'name': 'curry powder'}, {'quantity': '1', 'unit': 'teaspoon', 'name': 'ground cumin'}, {'quantity': '1', 'unit': 'teaspoon', 'name': 'ground turmeric'}, {'quantity': '1', 'unit': 'teaspoon', 'name': 'ground coriander'}, {'quantity': '1', 'unit': 'teaspoon', 'name': 'cayenne pepper'}, {'quantity': '1', 'unit': 'tablespoon', 'name': 'water'}, {'quantity': '1', 'unit': '(15 ounce) can', 'name': 'crushed tomatoes'}, {'quantity': '1', 'unit': 'cup', 'name': 'plain yogurt'}, {'quantity': '1', 'unit': 'tablespoon', 'name': 'chopped fresh cilantro'}, {'quantity': '1', 'unit': 'teaspoon', 'name': 'salt'}, {'quantity': '½', 'unit': 'cup', 'name': 'water'}, {'quantity': '1', 'unit': 'teaspoon', 'name': 'garam masala'}, {'quantity': '1', 'unit': 'tablespoon', 'name': 'chopped fresh cilantro'}, {'quantity': '1', 'unit': 'tablespoon', 'name': 'fresh lemon juice'}]\"\n",
    "\n",
    "data_list = ast.literal_eval(data_str)\n",
    "print(data_list)\n",
    "\n",
    "type(data_list[0])"
   ]
  },
  {
   "cell_type": "code",
   "execution_count": null,
   "metadata": {},
   "outputs": [],
   "source": [
    "print(df[\"Ingredients\"][0])"
   ]
  },
  {
   "cell_type": "code",
   "execution_count": null,
   "metadata": {},
   "outputs": [],
   "source": [
    "df['Ingredient_list'] = df['Ingredients'].apply(ast.literal_eval)\n",
    "df"
   ]
  },
  {
   "cell_type": "code",
   "execution_count": null,
   "metadata": {},
   "outputs": [],
   "source": [
    "df['Ingredient_names'] = df['Ingredient_list'].apply(lambda x: [d['name'] for d in x])\n",
    "type(df[\"Ingredient_names\"][0][0])"
   ]
  },
  {
   "cell_type": "code",
   "execution_count": null,
   "metadata": {},
   "outputs": [],
   "source": [
    "ingredient_set = set()\n",
    "for ingredient_list in df[\"Ingredient_names\"]:\n",
    "    for ingredient in ingredient_list:\n",
    "        ingredient_set.add(ingredient)\n",
    "ingredient_set"
   ]
  },
  {
   "cell_type": "code",
   "execution_count": null,
   "metadata": {},
   "outputs": [],
   "source": [
    "ingredient_options = [df[\"Ingredient_names\"][i][0] for i in range(len(df))]\n",
    "\n",
    "for i in range(len(ingredient_options)):\n",
    "    print(f\"{i}: {ingredient_options[i]}\")\n",
    "\n",
    "choice = int(input(\"Enter the number of the ingredient you have: \"))\n",
    "print(\"You picked\", ingredient_options[choice])\n",
    "\n",
    "# recommend a recipe\n",
    "recipe_options = df[df[\"Ingredient_names\"].apply(lambda x: ingredient_options[choice] in x)]\n",
    "print(recipe_options)"
   ]
  },
  {
   "cell_type": "code",
   "execution_count": null,
   "metadata": {},
   "outputs": [],
   "source": [
    "item = \"skinless, boneless chicken breast halves\"\n",
    "nlp = spacy.load(\"en_core_web_sm\")\n",
    "\n",
    "doc = nlp(item)\n",
    "print([chunk.text for chunk in doc.noun_chunks])\n",
    "spacy.displacy.render(doc)"
   ]
  },
  {
   "cell_type": "code",
   "execution_count": null,
   "metadata": {},
   "outputs": [],
   "source": [
    "for np in doc.noun_chunks:\n",
    "    print(np.text)"
   ]
  }
 ],
 "metadata": {
  "kernelspec": {
   "display_name": ".venv",
   "language": "python",
   "name": "python3"
  },
  "language_info": {
   "codemirror_mode": {
    "name": "ipython",
    "version": 3
   },
   "file_extension": ".py",
   "mimetype": "text/x-python",
   "name": "python",
   "nbconvert_exporter": "python",
   "pygments_lexer": "ipython3",
   "version": "3.11.4"
  }
 },
 "nbformat": 4,
 "nbformat_minor": 2
}

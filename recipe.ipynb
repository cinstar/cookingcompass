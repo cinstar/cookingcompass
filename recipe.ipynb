{
 "cells": [
  {
   "cell_type": "code",
   "execution_count": 4,
   "metadata": {},
   "outputs": [],
   "source": [
    "import pandas as pd\n",
    "import ast\n",
    "import spacy"
   ]
  },
  {
   "cell_type": "code",
   "execution_count": 5,
   "metadata": {},
   "outputs": [
    {
     "data": {
      "text/html": [
       "<div>\n",
       "<style scoped>\n",
       "    .dataframe tbody tr th:only-of-type {\n",
       "        vertical-align: middle;\n",
       "    }\n",
       "\n",
       "    .dataframe tbody tr th {\n",
       "        vertical-align: top;\n",
       "    }\n",
       "\n",
       "    .dataframe thead th {\n",
       "        text-align: right;\n",
       "    }\n",
       "</style>\n",
       "<table border=\"1\" class=\"dataframe\">\n",
       "  <thead>\n",
       "    <tr style=\"text-align: right;\">\n",
       "      <th></th>\n",
       "      <th>Row</th>\n",
       "      <th>Name</th>\n",
       "      <th>Prep Time</th>\n",
       "      <th>Cook Time</th>\n",
       "      <th>Total Time</th>\n",
       "      <th>Servings</th>\n",
       "      <th>Yield</th>\n",
       "      <th>Ingredients</th>\n",
       "      <th>Directions</th>\n",
       "      <th>url</th>\n",
       "      <th>Additional Time</th>\n",
       "    </tr>\n",
       "  </thead>\n",
       "  <tbody>\n",
       "    <tr>\n",
       "      <th>0</th>\n",
       "      <td>0</td>\n",
       "      <td>Indian Chicken Curry (Murgh Kari)</td>\n",
       "      <td>20 mins</td>\n",
       "      <td>40 mins</td>\n",
       "      <td>1 hrs</td>\n",
       "      <td>6</td>\n",
       "      <td>6 servings</td>\n",
       "      <td>[{'quantity': '2', 'unit': 'pounds', 'name': '...</td>\n",
       "      <td>['Sprinkle the chicken breasts with 2 teaspoon...</td>\n",
       "      <td>https://www.allrecipes.com/recipe/212721/india...</td>\n",
       "      <td>NaN</td>\n",
       "    </tr>\n",
       "    <tr>\n",
       "      <th>1</th>\n",
       "      <td>1</td>\n",
       "      <td>Chicken Stir-Fry</td>\n",
       "      <td>20 mins</td>\n",
       "      <td>20 mins</td>\n",
       "      <td>40 mins</td>\n",
       "      <td>6</td>\n",
       "      <td>NaN</td>\n",
       "      <td>[{'quantity': '4', 'unit': 'cups', 'name': 'wa...</td>\n",
       "      <td>['Bring water and rice to a boil in a saucepan...</td>\n",
       "      <td>https://www.allrecipes.com/recipe/223382/chick...</td>\n",
       "      <td>NaN</td>\n",
       "    </tr>\n",
       "    <tr>\n",
       "      <th>2</th>\n",
       "      <td>2</td>\n",
       "      <td>Jambalaya</td>\n",
       "      <td>20 mins</td>\n",
       "      <td>45 mins</td>\n",
       "      <td>1 hrs 5 mins</td>\n",
       "      <td>6</td>\n",
       "      <td>6 servings</td>\n",
       "      <td>[{'quantity': '2', 'unit': 'tablespoons', 'nam...</td>\n",
       "      <td>['Heat 1 tablespoon of peanut oil in a large h...</td>\n",
       "      <td>https://www.allrecipes.com/recipe/31848/jambal...</td>\n",
       "      <td>NaN</td>\n",
       "    </tr>\n",
       "    <tr>\n",
       "      <th>3</th>\n",
       "      <td>3</td>\n",
       "      <td>Chicken Katsu</td>\n",
       "      <td>10 mins</td>\n",
       "      <td>10 mins</td>\n",
       "      <td>20 mins</td>\n",
       "      <td>4</td>\n",
       "      <td>4 servings</td>\n",
       "      <td>[{'quantity': '4', 'unit': '', 'name': 'skinle...</td>\n",
       "      <td>['Season the chicken breasts on both sides wit...</td>\n",
       "      <td>https://www.allrecipes.com/recipe/72068/chicke...</td>\n",
       "      <td>NaN</td>\n",
       "    </tr>\n",
       "    <tr>\n",
       "      <th>4</th>\n",
       "      <td>4</td>\n",
       "      <td>Simple Baked Chicken Breasts</td>\n",
       "      <td>10 mins</td>\n",
       "      <td>25 mins</td>\n",
       "      <td>35 mins</td>\n",
       "      <td>4</td>\n",
       "      <td>NaN</td>\n",
       "      <td>[{'quantity': '4', 'unit': '(5 ounce)', 'name'...</td>\n",
       "      <td>['Preheat the oven to 400 degrees F (200 degre...</td>\n",
       "      <td>https://www.allrecipes.com/recipe/240208/simpl...</td>\n",
       "      <td>NaN</td>\n",
       "    </tr>\n",
       "  </tbody>\n",
       "</table>\n",
       "</div>"
      ],
      "text/plain": [
       "   Row                               Name Prep Time Cook Time    Total Time  \\\n",
       "0    0  Indian Chicken Curry (Murgh Kari)   20 mins   40 mins         1 hrs   \n",
       "1    1                   Chicken Stir-Fry   20 mins   20 mins       40 mins   \n",
       "2    2                          Jambalaya   20 mins   45 mins  1 hrs 5 mins   \n",
       "3    3                      Chicken Katsu   10 mins   10 mins       20 mins   \n",
       "4    4       Simple Baked Chicken Breasts   10 mins   25 mins       35 mins   \n",
       "\n",
       "   Servings       Yield                                        Ingredients  \\\n",
       "0         6  6 servings  [{'quantity': '2', 'unit': 'pounds', 'name': '...   \n",
       "1         6         NaN  [{'quantity': '4', 'unit': 'cups', 'name': 'wa...   \n",
       "2         6  6 servings  [{'quantity': '2', 'unit': 'tablespoons', 'nam...   \n",
       "3         4  4 servings  [{'quantity': '4', 'unit': '', 'name': 'skinle...   \n",
       "4         4         NaN  [{'quantity': '4', 'unit': '(5 ounce)', 'name'...   \n",
       "\n",
       "                                          Directions  \\\n",
       "0  ['Sprinkle the chicken breasts with 2 teaspoon...   \n",
       "1  ['Bring water and rice to a boil in a saucepan...   \n",
       "2  ['Heat 1 tablespoon of peanut oil in a large h...   \n",
       "3  ['Season the chicken breasts on both sides wit...   \n",
       "4  ['Preheat the oven to 400 degrees F (200 degre...   \n",
       "\n",
       "                                                 url Additional Time  \n",
       "0  https://www.allrecipes.com/recipe/212721/india...             NaN  \n",
       "1  https://www.allrecipes.com/recipe/223382/chick...             NaN  \n",
       "2  https://www.allrecipes.com/recipe/31848/jambal...             NaN  \n",
       "3  https://www.allrecipes.com/recipe/72068/chicke...             NaN  \n",
       "4  https://www.allrecipes.com/recipe/240208/simpl...             NaN  "
      ]
     },
     "execution_count": 5,
     "metadata": {},
     "output_type": "execute_result"
    }
   ],
   "source": [
    "df = pd.read_csv(\"data/test_recipes.csv\").head()\n",
    "df"
   ]
  },
  {
   "cell_type": "code",
   "execution_count": 6,
   "metadata": {},
   "outputs": [
    {
     "name": "stdout",
     "output_type": "stream",
     "text": [
      "[{'quantity': '2', 'unit': 'pounds', 'name': 'skinless, boneless chicken breast halves'}, {'quantity': '2', 'unit': 'teaspoons', 'name': 'salt'}, {'quantity': '½', 'unit': 'cup', 'name': 'cooking oil'}, {'quantity': '1 ½', 'unit': 'cups', 'name': 'chopped onion'}, {'quantity': '1', 'unit': 'tablespoon', 'name': 'minced garlic'}, {'quantity': '1 ½', 'unit': 'teaspoons', 'name': 'minced fresh ginger root'}, {'quantity': '1', 'unit': 'tablespoon', 'name': 'curry powder'}, {'quantity': '1', 'unit': 'teaspoon', 'name': 'ground cumin'}, {'quantity': '1', 'unit': 'teaspoon', 'name': 'ground turmeric'}, {'quantity': '1', 'unit': 'teaspoon', 'name': 'ground coriander'}, {'quantity': '1', 'unit': 'teaspoon', 'name': 'cayenne pepper'}, {'quantity': '1', 'unit': 'tablespoon', 'name': 'water'}, {'quantity': '1', 'unit': '(15 ounce) can', 'name': 'crushed tomatoes'}, {'quantity': '1', 'unit': 'cup', 'name': 'plain yogurt'}, {'quantity': '1', 'unit': 'tablespoon', 'name': 'chopped fresh cilantro'}, {'quantity': '1', 'unit': 'teaspoon', 'name': 'salt'}, {'quantity': '½', 'unit': 'cup', 'name': 'water'}, {'quantity': '1', 'unit': 'teaspoon', 'name': 'garam masala'}, {'quantity': '1', 'unit': 'tablespoon', 'name': 'chopped fresh cilantro'}, {'quantity': '1', 'unit': 'tablespoon', 'name': 'fresh lemon juice'}]\n"
     ]
    },
    {
     "data": {
      "text/plain": [
       "dict"
      ]
     },
     "execution_count": 6,
     "metadata": {},
     "output_type": "execute_result"
    }
   ],
   "source": [
    "data_str = \"[{'quantity': '2', 'unit': 'pounds', 'name': 'skinless, boneless chicken breast halves'}, {'quantity': '2', 'unit': 'teaspoons', 'name': 'salt'}, {'quantity': '½', 'unit': 'cup', 'name': 'cooking oil'}, {'quantity': '1 ½', 'unit': 'cups', 'name': 'chopped onion'}, {'quantity': '1', 'unit': 'tablespoon', 'name': 'minced garlic'}, {'quantity': '1 ½', 'unit': 'teaspoons', 'name': 'minced fresh ginger root'}, {'quantity': '1', 'unit': 'tablespoon', 'name': 'curry powder'}, {'quantity': '1', 'unit': 'teaspoon', 'name': 'ground cumin'}, {'quantity': '1', 'unit': 'teaspoon', 'name': 'ground turmeric'}, {'quantity': '1', 'unit': 'teaspoon', 'name': 'ground coriander'}, {'quantity': '1', 'unit': 'teaspoon', 'name': 'cayenne pepper'}, {'quantity': '1', 'unit': 'tablespoon', 'name': 'water'}, {'quantity': '1', 'unit': '(15 ounce) can', 'name': 'crushed tomatoes'}, {'quantity': '1', 'unit': 'cup', 'name': 'plain yogurt'}, {'quantity': '1', 'unit': 'tablespoon', 'name': 'chopped fresh cilantro'}, {'quantity': '1', 'unit': 'teaspoon', 'name': 'salt'}, {'quantity': '½', 'unit': 'cup', 'name': 'water'}, {'quantity': '1', 'unit': 'teaspoon', 'name': 'garam masala'}, {'quantity': '1', 'unit': 'tablespoon', 'name': 'chopped fresh cilantro'}, {'quantity': '1', 'unit': 'tablespoon', 'name': 'fresh lemon juice'}]\"\n",
    "\n",
    "data_list = ast.literal_eval(data_str)\n",
    "print(data_list)\n",
    "\n",
    "type(data_list[0])"
   ]
  },
  {
   "cell_type": "code",
   "execution_count": 7,
   "metadata": {},
   "outputs": [
    {
     "name": "stdout",
     "output_type": "stream",
     "text": [
      "[{'quantity': '2', 'unit': 'pounds', 'name': 'skinless, boneless chicken breast halves'}, {'quantity': '2', 'unit': 'teaspoons', 'name': 'salt'}, {'quantity': '½', 'unit': 'cup', 'name': 'cooking oil'}, {'quantity': '1 ½', 'unit': 'cups', 'name': 'chopped onion'}, {'quantity': '1', 'unit': 'tablespoon', 'name': 'minced garlic'}, {'quantity': '1 ½', 'unit': 'teaspoons', 'name': 'minced fresh ginger root'}, {'quantity': '1', 'unit': 'tablespoon', 'name': 'curry powder'}, {'quantity': '1', 'unit': 'teaspoon', 'name': 'ground cumin'}, {'quantity': '1', 'unit': 'teaspoon', 'name': 'ground turmeric'}, {'quantity': '1', 'unit': 'teaspoon', 'name': 'ground coriander'}, {'quantity': '1', 'unit': 'teaspoon', 'name': 'cayenne pepper'}, {'quantity': '1', 'unit': 'tablespoon', 'name': 'water'}, {'quantity': '1', 'unit': '(15 ounce) can', 'name': 'crushed tomatoes'}, {'quantity': '1', 'unit': 'cup', 'name': 'plain yogurt'}, {'quantity': '1', 'unit': 'tablespoon', 'name': 'chopped fresh cilantro'}, {'quantity': '1', 'unit': 'teaspoon', 'name': 'salt'}, {'quantity': '½', 'unit': 'cup', 'name': 'water'}, {'quantity': '1', 'unit': 'teaspoon', 'name': 'garam masala'}, {'quantity': '1', 'unit': 'tablespoon', 'name': 'chopped fresh cilantro'}, {'quantity': '1', 'unit': 'tablespoon', 'name': 'fresh lemon juice'}]\n"
     ]
    }
   ],
   "source": [
    "print(df[\"Ingredients\"][0])"
   ]
  },
  {
   "cell_type": "code",
   "execution_count": 8,
   "metadata": {},
   "outputs": [
    {
     "data": {
      "text/html": [
       "<div>\n",
       "<style scoped>\n",
       "    .dataframe tbody tr th:only-of-type {\n",
       "        vertical-align: middle;\n",
       "    }\n",
       "\n",
       "    .dataframe tbody tr th {\n",
       "        vertical-align: top;\n",
       "    }\n",
       "\n",
       "    .dataframe thead th {\n",
       "        text-align: right;\n",
       "    }\n",
       "</style>\n",
       "<table border=\"1\" class=\"dataframe\">\n",
       "  <thead>\n",
       "    <tr style=\"text-align: right;\">\n",
       "      <th></th>\n",
       "      <th>Row</th>\n",
       "      <th>Name</th>\n",
       "      <th>Prep Time</th>\n",
       "      <th>Cook Time</th>\n",
       "      <th>Total Time</th>\n",
       "      <th>Servings</th>\n",
       "      <th>Yield</th>\n",
       "      <th>Ingredients</th>\n",
       "      <th>Directions</th>\n",
       "      <th>url</th>\n",
       "      <th>Additional Time</th>\n",
       "      <th>Ingredient_list</th>\n",
       "    </tr>\n",
       "  </thead>\n",
       "  <tbody>\n",
       "    <tr>\n",
       "      <th>0</th>\n",
       "      <td>0</td>\n",
       "      <td>Indian Chicken Curry (Murgh Kari)</td>\n",
       "      <td>20 mins</td>\n",
       "      <td>40 mins</td>\n",
       "      <td>1 hrs</td>\n",
       "      <td>6</td>\n",
       "      <td>6 servings</td>\n",
       "      <td>[{'quantity': '2', 'unit': 'pounds', 'name': '...</td>\n",
       "      <td>['Sprinkle the chicken breasts with 2 teaspoon...</td>\n",
       "      <td>https://www.allrecipes.com/recipe/212721/india...</td>\n",
       "      <td>NaN</td>\n",
       "      <td>[{'quantity': '2', 'unit': 'pounds', 'name': '...</td>\n",
       "    </tr>\n",
       "    <tr>\n",
       "      <th>1</th>\n",
       "      <td>1</td>\n",
       "      <td>Chicken Stir-Fry</td>\n",
       "      <td>20 mins</td>\n",
       "      <td>20 mins</td>\n",
       "      <td>40 mins</td>\n",
       "      <td>6</td>\n",
       "      <td>NaN</td>\n",
       "      <td>[{'quantity': '4', 'unit': 'cups', 'name': 'wa...</td>\n",
       "      <td>['Bring water and rice to a boil in a saucepan...</td>\n",
       "      <td>https://www.allrecipes.com/recipe/223382/chick...</td>\n",
       "      <td>NaN</td>\n",
       "      <td>[{'quantity': '4', 'unit': 'cups', 'name': 'wa...</td>\n",
       "    </tr>\n",
       "    <tr>\n",
       "      <th>2</th>\n",
       "      <td>2</td>\n",
       "      <td>Jambalaya</td>\n",
       "      <td>20 mins</td>\n",
       "      <td>45 mins</td>\n",
       "      <td>1 hrs 5 mins</td>\n",
       "      <td>6</td>\n",
       "      <td>6 servings</td>\n",
       "      <td>[{'quantity': '2', 'unit': 'tablespoons', 'nam...</td>\n",
       "      <td>['Heat 1 tablespoon of peanut oil in a large h...</td>\n",
       "      <td>https://www.allrecipes.com/recipe/31848/jambal...</td>\n",
       "      <td>NaN</td>\n",
       "      <td>[{'quantity': '2', 'unit': 'tablespoons', 'nam...</td>\n",
       "    </tr>\n",
       "    <tr>\n",
       "      <th>3</th>\n",
       "      <td>3</td>\n",
       "      <td>Chicken Katsu</td>\n",
       "      <td>10 mins</td>\n",
       "      <td>10 mins</td>\n",
       "      <td>20 mins</td>\n",
       "      <td>4</td>\n",
       "      <td>4 servings</td>\n",
       "      <td>[{'quantity': '4', 'unit': '', 'name': 'skinle...</td>\n",
       "      <td>['Season the chicken breasts on both sides wit...</td>\n",
       "      <td>https://www.allrecipes.com/recipe/72068/chicke...</td>\n",
       "      <td>NaN</td>\n",
       "      <td>[{'quantity': '4', 'unit': '', 'name': 'skinle...</td>\n",
       "    </tr>\n",
       "    <tr>\n",
       "      <th>4</th>\n",
       "      <td>4</td>\n",
       "      <td>Simple Baked Chicken Breasts</td>\n",
       "      <td>10 mins</td>\n",
       "      <td>25 mins</td>\n",
       "      <td>35 mins</td>\n",
       "      <td>4</td>\n",
       "      <td>NaN</td>\n",
       "      <td>[{'quantity': '4', 'unit': '(5 ounce)', 'name'...</td>\n",
       "      <td>['Preheat the oven to 400 degrees F (200 degre...</td>\n",
       "      <td>https://www.allrecipes.com/recipe/240208/simpl...</td>\n",
       "      <td>NaN</td>\n",
       "      <td>[{'quantity': '4', 'unit': '(5 ounce)', 'name'...</td>\n",
       "    </tr>\n",
       "  </tbody>\n",
       "</table>\n",
       "</div>"
      ],
      "text/plain": [
       "   Row                               Name Prep Time Cook Time    Total Time  \\\n",
       "0    0  Indian Chicken Curry (Murgh Kari)   20 mins   40 mins         1 hrs   \n",
       "1    1                   Chicken Stir-Fry   20 mins   20 mins       40 mins   \n",
       "2    2                          Jambalaya   20 mins   45 mins  1 hrs 5 mins   \n",
       "3    3                      Chicken Katsu   10 mins   10 mins       20 mins   \n",
       "4    4       Simple Baked Chicken Breasts   10 mins   25 mins       35 mins   \n",
       "\n",
       "   Servings       Yield                                        Ingredients  \\\n",
       "0         6  6 servings  [{'quantity': '2', 'unit': 'pounds', 'name': '...   \n",
       "1         6         NaN  [{'quantity': '4', 'unit': 'cups', 'name': 'wa...   \n",
       "2         6  6 servings  [{'quantity': '2', 'unit': 'tablespoons', 'nam...   \n",
       "3         4  4 servings  [{'quantity': '4', 'unit': '', 'name': 'skinle...   \n",
       "4         4         NaN  [{'quantity': '4', 'unit': '(5 ounce)', 'name'...   \n",
       "\n",
       "                                          Directions  \\\n",
       "0  ['Sprinkle the chicken breasts with 2 teaspoon...   \n",
       "1  ['Bring water and rice to a boil in a saucepan...   \n",
       "2  ['Heat 1 tablespoon of peanut oil in a large h...   \n",
       "3  ['Season the chicken breasts on both sides wit...   \n",
       "4  ['Preheat the oven to 400 degrees F (200 degre...   \n",
       "\n",
       "                                                 url Additional Time  \\\n",
       "0  https://www.allrecipes.com/recipe/212721/india...             NaN   \n",
       "1  https://www.allrecipes.com/recipe/223382/chick...             NaN   \n",
       "2  https://www.allrecipes.com/recipe/31848/jambal...             NaN   \n",
       "3  https://www.allrecipes.com/recipe/72068/chicke...             NaN   \n",
       "4  https://www.allrecipes.com/recipe/240208/simpl...             NaN   \n",
       "\n",
       "                                     Ingredient_list  \n",
       "0  [{'quantity': '2', 'unit': 'pounds', 'name': '...  \n",
       "1  [{'quantity': '4', 'unit': 'cups', 'name': 'wa...  \n",
       "2  [{'quantity': '2', 'unit': 'tablespoons', 'nam...  \n",
       "3  [{'quantity': '4', 'unit': '', 'name': 'skinle...  \n",
       "4  [{'quantity': '4', 'unit': '(5 ounce)', 'name'...  "
      ]
     },
     "execution_count": 8,
     "metadata": {},
     "output_type": "execute_result"
    }
   ],
   "source": [
    "df['Ingredient_list'] = df['Ingredients'].apply(ast.literal_eval)\n",
    "df"
   ]
  },
  {
   "cell_type": "code",
   "execution_count": 9,
   "metadata": {},
   "outputs": [
    {
     "data": {
      "text/plain": [
       "str"
      ]
     },
     "execution_count": 9,
     "metadata": {},
     "output_type": "execute_result"
    }
   ],
   "source": [
    "df['Ingredient_names'] = df['Ingredient_list'].apply(lambda x: [d['name'] for d in x])\n",
    "type(df[\"Ingredient_names\"][0][0])"
   ]
  },
  {
   "cell_type": "code",
   "execution_count": 10,
   "metadata": {},
   "outputs": [
    {
     "data": {
      "text/plain": [
       "{'Cajun seasoning',\n",
       " \"Creole seasoning (such as Tony Chachere's®), or more to taste\",\n",
       " 'Worcestershire sauce',\n",
       " 'all-purpose flour',\n",
       " 'andouille sausage, sliced into rounds',\n",
       " 'boneless skinless chicken breasts, cut into 1 inch pieces',\n",
       " 'broccoli, broken into florets',\n",
       " 'brown sugar',\n",
       " 'cayenne pepper',\n",
       " 'celery, diced',\n",
       " 'chicken broth',\n",
       " 'chicken broth, or more to taste',\n",
       " 'chopped fresh cilantro',\n",
       " 'chopped onion',\n",
       " 'coarse sea salt, or to taste',\n",
       " 'cooking oil',\n",
       " 'cornstarch',\n",
       " 'crushed Italian tomatoes',\n",
       " 'crushed tomatoes',\n",
       " 'curry powder',\n",
       " 'egg, beaten',\n",
       " 'file powder',\n",
       " 'fresh lemon juice',\n",
       " 'garam masala',\n",
       " 'garlic, minced',\n",
       " 'green bell pepper, cut into matchsticks',\n",
       " 'green bell pepper, diced',\n",
       " 'ground black pepper',\n",
       " 'ground coriander',\n",
       " 'ground cumin',\n",
       " 'ground turmeric',\n",
       " 'hot pepper sauce',\n",
       " 'minced fresh ginger',\n",
       " 'minced fresh ginger root',\n",
       " 'minced garlic',\n",
       " 'oil for frying, or as needed',\n",
       " 'olive oil',\n",
       " 'onion, cut into large chunks',\n",
       " 'onion, diced',\n",
       " 'panko bread crumbs',\n",
       " 'peanut oil, divided',\n",
       " 'plain yogurt',\n",
       " 'red pepper flakes',\n",
       " 'salt',\n",
       " 'salt and pepper to taste',\n",
       " 'sesame oil, divided',\n",
       " 'skinless, boneless chicken breast halves',\n",
       " 'skinless, boneless chicken breast halves - pounded to 1/2 inch thickness',\n",
       " 'skinless, boneless chicken breast halves, thinly sliced',\n",
       " 'sliced carrots',\n",
       " 'sliced water chestnuts, drained',\n",
       " 'soy sauce',\n",
       " 'uncooked white rice',\n",
       " 'water',\n",
       " 'white rice'}"
      ]
     },
     "execution_count": 10,
     "metadata": {},
     "output_type": "execute_result"
    }
   ],
   "source": [
    "ingredient_set = set()\n",
    "for ingredient_list in df[\"Ingredient_names\"]:\n",
    "    for ingredient in ingredient_list:\n",
    "        ingredient_set.add(ingredient)\n",
    "ingredient_set"
   ]
  },
  {
   "cell_type": "code",
   "execution_count": 11,
   "metadata": {},
   "outputs": [
    {
     "name": "stdout",
     "output_type": "stream",
     "text": [
      "0: skinless, boneless chicken breast halves\n",
      "1: water\n",
      "2: peanut oil, divided\n",
      "3: skinless, boneless chicken breast halves - pounded to 1/2 inch thickness\n",
      "4: skinless, boneless chicken breast halves\n"
     ]
    },
    {
     "ename": "IndexError",
     "evalue": "list index out of range",
     "output_type": "error",
     "traceback": [
      "\u001b[0;31m---------------------------------------------------------------------------\u001b[0m",
      "\u001b[0;31mIndexError\u001b[0m                                Traceback (most recent call last)",
      "Cell \u001b[0;32mIn[11], line 7\u001b[0m\n\u001b[1;32m      4\u001b[0m     \u001b[38;5;28mprint\u001b[39m(\u001b[38;5;124mf\u001b[39m\u001b[38;5;124m\"\u001b[39m\u001b[38;5;132;01m{\u001b[39;00mi\u001b[38;5;132;01m}\u001b[39;00m\u001b[38;5;124m: \u001b[39m\u001b[38;5;132;01m{\u001b[39;00mingredient_options[i]\u001b[38;5;132;01m}\u001b[39;00m\u001b[38;5;124m\"\u001b[39m)\n\u001b[1;32m      6\u001b[0m choice \u001b[38;5;241m=\u001b[39m \u001b[38;5;28mint\u001b[39m(\u001b[38;5;28minput\u001b[39m(\u001b[38;5;124m\"\u001b[39m\u001b[38;5;124mEnter the number of the ingredient you have: \u001b[39m\u001b[38;5;124m\"\u001b[39m))\n\u001b[0;32m----> 7\u001b[0m \u001b[38;5;28mprint\u001b[39m(\u001b[38;5;124m\"\u001b[39m\u001b[38;5;124mYou picked\u001b[39m\u001b[38;5;124m\"\u001b[39m, \u001b[43mingredient_options\u001b[49m\u001b[43m[\u001b[49m\u001b[43mchoice\u001b[49m\u001b[43m]\u001b[49m)\n\u001b[1;32m      9\u001b[0m \u001b[38;5;66;03m# recommend a recipe\u001b[39;00m\n\u001b[1;32m     10\u001b[0m recipe_options \u001b[38;5;241m=\u001b[39m df[df[\u001b[38;5;124m\"\u001b[39m\u001b[38;5;124mIngredient_names\u001b[39m\u001b[38;5;124m\"\u001b[39m]\u001b[38;5;241m.\u001b[39mapply(\u001b[38;5;28;01mlambda\u001b[39;00m x: ingredient_options[choice] \u001b[38;5;129;01min\u001b[39;00m x)]\n",
      "\u001b[0;31mIndexError\u001b[0m: list index out of range"
     ]
    }
   ],
   "source": [
    "ingredient_options = [df[\"Ingredient_names\"][i][0] for i in range(len(df))]\n",
    "\n",
    "for i in range(len(ingredient_options)):\n",
    "    print(f\"{i}: {ingredient_options[i]}\")\n",
    "\n",
    "choice = int(input(\"Enter the number of the ingredient you have: \"))\n",
    "print(\"You picked\", ingredient_options[choice])\n",
    "\n",
    "# recommend a recipe\n",
    "recipe_options = df[df[\"Ingredient_names\"].apply(lambda x: ingredient_options[choice] in x)]\n",
    "print(recipe_options)"
   ]
  },
  {
   "cell_type": "code",
   "execution_count": null,
   "metadata": {},
   "outputs": [
    {
     "name": "stdout",
     "output_type": "stream",
     "text": [
      "['skinless', 'boneless chicken breast halves']\n"
     ]
    },
    {
     "data": {
      "text/html": [
       "<span class=\"tex2jax_ignore\"><svg xmlns=\"http://www.w3.org/2000/svg\" xmlns:xlink=\"http://www.w3.org/1999/xlink\" xml:lang=\"en\" id=\"b1d5e02557a845fa84e8301892071b02-0\" class=\"displacy\" width=\"925\" height=\"399.5\" direction=\"ltr\" style=\"max-width: none; height: 399.5px; color: #000000; background: #ffffff; font-family: Arial; direction: ltr\">\n",
       "<text class=\"displacy-token\" fill=\"currentColor\" text-anchor=\"middle\" y=\"309.5\">\n",
       "    <tspan class=\"displacy-word\" fill=\"currentColor\" x=\"50\">skinless,</tspan>\n",
       "    <tspan class=\"displacy-tag\" dy=\"2em\" fill=\"currentColor\" x=\"50\">NOUN</tspan>\n",
       "</text>\n",
       "\n",
       "<text class=\"displacy-token\" fill=\"currentColor\" text-anchor=\"middle\" y=\"309.5\">\n",
       "    <tspan class=\"displacy-word\" fill=\"currentColor\" x=\"225\">boneless</tspan>\n",
       "    <tspan class=\"displacy-tag\" dy=\"2em\" fill=\"currentColor\" x=\"225\">NOUN</tspan>\n",
       "</text>\n",
       "\n",
       "<text class=\"displacy-token\" fill=\"currentColor\" text-anchor=\"middle\" y=\"309.5\">\n",
       "    <tspan class=\"displacy-word\" fill=\"currentColor\" x=\"400\">chicken</tspan>\n",
       "    <tspan class=\"displacy-tag\" dy=\"2em\" fill=\"currentColor\" x=\"400\">NOUN</tspan>\n",
       "</text>\n",
       "\n",
       "<text class=\"displacy-token\" fill=\"currentColor\" text-anchor=\"middle\" y=\"309.5\">\n",
       "    <tspan class=\"displacy-word\" fill=\"currentColor\" x=\"575\">breast</tspan>\n",
       "    <tspan class=\"displacy-tag\" dy=\"2em\" fill=\"currentColor\" x=\"575\">PROPN</tspan>\n",
       "</text>\n",
       "\n",
       "<text class=\"displacy-token\" fill=\"currentColor\" text-anchor=\"middle\" y=\"309.5\">\n",
       "    <tspan class=\"displacy-word\" fill=\"currentColor\" x=\"750\">halves</tspan>\n",
       "    <tspan class=\"displacy-tag\" dy=\"2em\" fill=\"currentColor\" x=\"750\">NOUN</tspan>\n",
       "</text>\n",
       "\n",
       "<g class=\"displacy-arrow\">\n",
       "    <path class=\"displacy-arc\" id=\"arrow-b1d5e02557a845fa84e8301892071b02-0-0\" stroke-width=\"2px\" d=\"M245,264.5 C245,89.5 745.0,89.5 745.0,264.5\" fill=\"none\" stroke=\"currentColor\"/>\n",
       "    <text dy=\"1.25em\" style=\"font-size: 0.8em; letter-spacing: 1px\">\n",
       "        <textPath xlink:href=\"#arrow-b1d5e02557a845fa84e8301892071b02-0-0\" class=\"displacy-label\" startOffset=\"50%\" side=\"left\" fill=\"currentColor\" text-anchor=\"middle\">compound</textPath>\n",
       "    </text>\n",
       "    <path class=\"displacy-arrowhead\" d=\"M245,266.5 L237,254.5 253,254.5\" fill=\"currentColor\"/>\n",
       "</g>\n",
       "\n",
       "<g class=\"displacy-arrow\">\n",
       "    <path class=\"displacy-arc\" id=\"arrow-b1d5e02557a845fa84e8301892071b02-0-1\" stroke-width=\"2px\" d=\"M420,264.5 C420,177.0 565.0,177.0 565.0,264.5\" fill=\"none\" stroke=\"currentColor\"/>\n",
       "    <text dy=\"1.25em\" style=\"font-size: 0.8em; letter-spacing: 1px\">\n",
       "        <textPath xlink:href=\"#arrow-b1d5e02557a845fa84e8301892071b02-0-1\" class=\"displacy-label\" startOffset=\"50%\" side=\"left\" fill=\"currentColor\" text-anchor=\"middle\">compound</textPath>\n",
       "    </text>\n",
       "    <path class=\"displacy-arrowhead\" d=\"M420,266.5 L412,254.5 428,254.5\" fill=\"currentColor\"/>\n",
       "</g>\n",
       "\n",
       "<g class=\"displacy-arrow\">\n",
       "    <path class=\"displacy-arc\" id=\"arrow-b1d5e02557a845fa84e8301892071b02-0-2\" stroke-width=\"2px\" d=\"M595,264.5 C595,177.0 740.0,177.0 740.0,264.5\" fill=\"none\" stroke=\"currentColor\"/>\n",
       "    <text dy=\"1.25em\" style=\"font-size: 0.8em; letter-spacing: 1px\">\n",
       "        <textPath xlink:href=\"#arrow-b1d5e02557a845fa84e8301892071b02-0-2\" class=\"displacy-label\" startOffset=\"50%\" side=\"left\" fill=\"currentColor\" text-anchor=\"middle\">compound</textPath>\n",
       "    </text>\n",
       "    <path class=\"displacy-arrowhead\" d=\"M595,266.5 L587,254.5 603,254.5\" fill=\"currentColor\"/>\n",
       "</g>\n",
       "\n",
       "<g class=\"displacy-arrow\">\n",
       "    <path class=\"displacy-arc\" id=\"arrow-b1d5e02557a845fa84e8301892071b02-0-3\" stroke-width=\"2px\" d=\"M70,264.5 C70,2.0 750.0,2.0 750.0,264.5\" fill=\"none\" stroke=\"currentColor\"/>\n",
       "    <text dy=\"1.25em\" style=\"font-size: 0.8em; letter-spacing: 1px\">\n",
       "        <textPath xlink:href=\"#arrow-b1d5e02557a845fa84e8301892071b02-0-3\" class=\"displacy-label\" startOffset=\"50%\" side=\"left\" fill=\"currentColor\" text-anchor=\"middle\">appos</textPath>\n",
       "    </text>\n",
       "    <path class=\"displacy-arrowhead\" d=\"M750.0,266.5 L758.0,254.5 742.0,254.5\" fill=\"currentColor\"/>\n",
       "</g>\n",
       "</svg></span>"
      ],
      "text/plain": [
       "<IPython.core.display.HTML object>"
      ]
     },
     "metadata": {},
     "output_type": "display_data"
    }
   ],
   "source": [
    "item = \"skinless, boneless chicken breast halves\"\n",
    "nlp = spacy.load(\"en_core_web_sm\")\n",
    "\n",
    "doc = nlp(item)\n",
    "print([chunk.text for chunk in doc.noun_chunks])\n",
    "spacy.displacy.render(doc)"
   ]
  },
  {
   "cell_type": "code",
   "execution_count": 15,
   "metadata": {},
   "outputs": [
    {
     "name": "stdout",
     "output_type": "stream",
     "text": [
      "skinless\n",
      "boneless chicken breast halves\n"
     ]
    }
   ],
   "source": [
    "for np in doc.noun_chunks:\n",
    "    print(np.text)"
   ]
  }
 ],
 "metadata": {
  "kernelspec": {
   "display_name": ".venv",
   "language": "python",
   "name": "python3"
  },
  "language_info": {
   "codemirror_mode": {
    "name": "ipython",
    "version": 3
   },
   "file_extension": ".py",
   "mimetype": "text/x-python",
   "name": "python",
   "nbconvert_exporter": "python",
   "pygments_lexer": "ipython3",
   "version": "3.10.11"
  }
 },
 "nbformat": 4,
 "nbformat_minor": 2
}

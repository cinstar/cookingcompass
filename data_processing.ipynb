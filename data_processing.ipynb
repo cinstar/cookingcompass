{
 "cells": [
  {
   "cell_type": "code",
   "execution_count": 1,
   "id": "8d8a28de",
   "metadata": {},
   "outputs": [],
   "source": [
    "# imports\n",
    "import re\n",
    "import pandas as pd\n",
    "from ingredient_processing import clean_ingredient_text"
   ]
  },
  {
   "cell_type": "code",
   "execution_count": 2,
   "id": "a35f3312",
   "metadata": {},
   "outputs": [
    {
     "name": "stdout",
     "output_type": "stream",
     "text": [
      "Index(['Unnamed: 0', 'recipe_name', 'prep_time', 'cook_time', 'total_time',\n",
      "       'servings', 'yield', 'ingredients', 'directions', 'rating', 'url',\n",
      "       'cuisine_path', 'nutrition', 'timing', 'img_src'],\n",
      "      dtype='object')\n"
     ]
    }
   ],
   "source": [
    "# load the data\n",
    "relative_filepath = \"data/recipes.csv\"\n",
    "recipe_data = pd.read_csv(relative_filepath)\n",
    "\n",
    "# check the features\n",
    "print(recipe_data.columns)"
   ]
  },
  {
   "cell_type": "code",
   "execution_count": 3,
   "id": "991d3c97",
   "metadata": {},
   "outputs": [],
   "source": [
    "# ingredient processing\n",
    "\n",
    "# Apply cleaning to original ingredients\n",
    "recipe_data['test'] = recipe_data['ingredients'].apply(clean_ingredient_text)"
   ]
  },
  {
   "cell_type": "code",
   "execution_count": 4,
   "id": "1eca0d22",
   "metadata": {},
   "outputs": [
    {
     "data": {
      "text/plain": [
       "<bound method NDFrame.head of 0       [butter, granny smith apples, quartered, -inch...\n",
       "1       [granny smith apples, or as needed, unsalted b...\n",
       "2           [apples, water, white sugar, ground cinnamon]\n",
       "3       [all-purpose apples, white sugar, all-purpose ...\n",
       "4       [apples, lemon juice, water, white sugar, corn...\n",
       "                              ...                        \n",
       "1085    [butter, dates, white sugar, crispy rice cerea...\n",
       "1086    [white sugar, vegetable oil, pecans, all-purpo...\n",
       "1087    [hot chile peppers, stems removed, onion, coar...\n",
       "1088    [dates, butter, boiling water, packed brown su...\n",
       "1089    [medjool dates, raw cashews, raw or roasted un...\n",
       "Name: test, Length: 1090, dtype: object>"
      ]
     },
     "execution_count": 4,
     "metadata": {},
     "output_type": "execute_result"
    }
   ],
   "source": [
    "recipe_data['test'].head"
   ]
  },
  {
   "cell_type": "code",
   "execution_count": 5,
   "id": "4319d137",
   "metadata": {},
   "outputs": [
    {
     "name": "stdout",
     "output_type": "stream",
     "text": [
      "['apples', 'water', 'white sugar', 'ground cinnamon']\n"
     ]
    }
   ],
   "source": [
    "print(clean_ingredient_text(\"4  apples - peeled, cored and chopped, ¾ cup water, ¼ cup white sugar, ½ teaspoon ground cinnamon\"))"
   ]
  },
  {
   "cell_type": "code",
   "execution_count": 6,
   "id": "5da7f9c6",
   "metadata": {},
   "outputs": [],
   "source": [
    "recipe_data.to_csv('recipe_data_test.csv')"
   ]
  }
 ],
 "metadata": {
  "kernelspec": {
   "display_name": "Python 3",
   "language": "python",
   "name": "python3"
  },
  "language_info": {
   "codemirror_mode": {
    "name": "ipython",
    "version": 3
   },
   "file_extension": ".py",
   "mimetype": "text/x-python",
   "name": "python",
   "nbconvert_exporter": "python",
   "pygments_lexer": "ipython3",
   "version": "3.11.0"
  }
 },
 "nbformat": 4,
 "nbformat_minor": 5
}

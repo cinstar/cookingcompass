{
 "cells": [
  {
   "cell_type": "code",
   "execution_count": 2,
   "metadata": {},
   "outputs": [
    {
     "name": "stdout",
     "output_type": "stream",
     "text": [
      "   Row                               Name Prep Time Cook Time    Total Time  \\\n",
      "0    0  Indian Chicken Curry (Murgh Kari)   20 mins   40 mins         1 hrs   \n",
      "1    1                   Chicken Stir-Fry   20 mins   20 mins       40 mins   \n",
      "2    2                          Jambalaya   20 mins   45 mins  1 hrs 5 mins   \n",
      "3    3                      Chicken Katsu   10 mins   10 mins       20 mins   \n",
      "4    4       Simple Baked Chicken Breasts   10 mins   25 mins       35 mins   \n",
      "\n",
      "   Servings       Yield                                        Ingredients  \\\n",
      "0         6  6 servings  [{'quantity': '2', 'unit': 'pounds', 'name': '...   \n",
      "1         6         NaN  [{'quantity': '4', 'unit': 'cups', 'name': 'wa...   \n",
      "2         6  6 servings  [{'quantity': '2', 'unit': 'tablespoons', 'nam...   \n",
      "3         4  4 servings  [{'quantity': '4', 'unit': '', 'name': 'skinle...   \n",
      "4         4         NaN  [{'quantity': '4', 'unit': '(5 ounce)', 'name'...   \n",
      "\n",
      "                                          Directions  \\\n",
      "0  ['Sprinkle the chicken breasts with 2 teaspoon...   \n",
      "1  ['Bring water and rice to a boil in a saucepan...   \n",
      "2  ['Heat 1 tablespoon of peanut oil in a large h...   \n",
      "3  ['Season the chicken breasts on both sides wit...   \n",
      "4  ['Preheat the oven to 400 degrees F (200 degre...   \n",
      "\n",
      "                                                 url Additional Time  \n",
      "0  https://www.allrecipes.com/recipe/212721/india...             NaN  \n",
      "1  https://www.allrecipes.com/recipe/223382/chick...             NaN  \n",
      "2  https://www.allrecipes.com/recipe/31848/jambal...             NaN  \n",
      "3  https://www.allrecipes.com/recipe/72068/chicke...             NaN  \n",
      "4  https://www.allrecipes.com/recipe/240208/simpl...             NaN  \n",
      "This is the name [\"[{'quantity': '2'\", \"'unit': 'pounds'\", \"'name': 'skinless\", \"boneless chicken breast halves'}\", \"{'quantity': '2'\", \"'unit': 'teaspoons'\", \"'name': 'salt'}\", \"{'quantity': '½'\", \"'unit': 'cup'\", \"'name': 'cooking oil'}\", \"{'quantity': '1 ½'\", \"'unit': 'cups'\", \"'name': 'chopped onion'}\", \"{'quantity': '1'\", \"'unit': 'tablespoon'\", \"'name': 'minced garlic'}\", \"{'quantity': '1 ½'\", \"'unit': 'teaspoons'\", \"'name': 'minced fresh ginger root'}\", \"{'quantity': '1'\", \"'unit': 'tablespoon'\", \"'name': 'curry powder'}\", \"{'quantity': '1'\", \"'unit': 'teaspoon'\", \"'name': 'ground cumin'}\", \"{'quantity': '1'\", \"'unit': 'teaspoon'\", \"'name': 'ground turmeric'}\", \"{'quantity': '1'\", \"'unit': 'teaspoon'\", \"'name': 'ground coriander'}\", \"{'quantity': '1'\", \"'unit': 'teaspoon'\", \"'name': 'cayenne pepper'}\", \"{'quantity': '1'\", \"'unit': 'tablespoon'\", \"'name': 'water'}\", \"{'quantity': '1'\", \"'unit': '(15 ounce) can'\", \"'name': 'crushed tomatoes'}\", \"{'quantity': '1'\", \"'unit': 'cup'\", \"'name': 'plain yogurt'}\", \"{'quantity': '1'\", \"'unit': 'tablespoon'\", \"'name': 'chopped fresh cilantro'}\", \"{'quantity': '1'\", \"'unit': 'teaspoon'\", \"'name': 'salt'}\", \"{'quantity': '½'\", \"'unit': 'cup'\", \"'name': 'water'}\", \"{'quantity': '1'\", \"'unit': 'teaspoon'\", \"'name': 'garam masala'}\", \"{'quantity': '1'\", \"'unit': 'tablespoon'\", \"'name': 'chopped fresh cilantro'}\", \"{'quantity': '1'\", \"'unit': 'tablespoon'\", \"'name': 'fresh lemon juice'}]\", \"[{'quantity': '4'\", \"'unit': 'cups'\", \"'name': 'water'}\", \"{'quantity': '2'\", \"'unit': 'cups'\", \"'name': 'white rice'}\", \"{'quantity': '⅔'\", \"'unit': 'cup'\", \"'name': 'soy sauce'}\", \"{'quantity': '¼'\", \"'unit': 'cup'\", \"'name': 'brown sugar'}\", \"{'quantity': '1'\", \"'unit': 'tablespoon'\", \"'name': 'cornstarch'}\", \"{'quantity': '1'\", \"'unit': 'tablespoon'\", \"'name': 'minced fresh ginger'}\", \"{'quantity': '1'\", \"'unit': 'tablespoon'\", \"'name': 'minced garlic'}\", \"{'quantity': '¼'\", \"'unit': 'teaspoon'\", \"'name': 'red pepper flakes'}\", \"{'quantity': '3'\", \"'unit': ''\", \"'name': 'skinless\", 'boneless chicken breast halves', \"thinly sliced'}\", \"{'quantity': '2'\", \"'unit': 'tablespoons'\", \"'name': 'sesame oil\", \"divided'}\", \"{'quantity': '1'\", \"'unit': 'head'\", \"'name': 'broccoli\", \"broken into florets'}\", \"{'quantity': '1'\", \"'unit': ''\", \"'name': 'onion\", \"cut into large chunks'}\", \"{'quantity': '1'\", \"'unit': 'cup'\", \"'name': 'sliced carrots'}\", \"{'quantity': '1'\", \"'unit': '(8 ounce) can'\", \"'name': 'sliced water chestnuts\", \"drained'}\", \"{'quantity': '1'\", \"'unit': ''\", \"'name': 'green bell pepper\", \"cut into matchsticks'}]\", \"[{'quantity': '2'\", \"'unit': 'tablespoons'\", \"'name': 'peanut oil\", \"divided'}\", \"{'quantity': '1'\", \"'unit': 'tablespoon'\", \"'name': 'Cajun seasoning'}\", \"{'quantity': '10'\", \"'unit': 'ounces'\", \"'name': 'andouille sausage\", \"sliced into rounds'}\", \"{'quantity': '1'\", \"'unit': 'pound'\", \"'name': 'boneless skinless chicken breasts\", \"cut into 1 inch pieces'}\", \"{'quantity': '1'\", \"'unit': ''\", \"'name': 'onion\", \"diced'}\", \"{'quantity': '1'\", \"'unit': 'small'\", \"'name': 'green bell pepper\", \"diced'}\", \"{'quantity': '2'\", \"'unit': 'stalks'\", \"'name': 'celery\", \"diced'}\", \"{'quantity': '3'\", \"'unit': 'cloves'\", \"'name': 'garlic\", \"minced'}\", \"{'quantity': '1'\", \"'unit': '(16 ounce) can'\", \"'name': 'crushed Italian tomatoes'}\", \"{'quantity': '½'\", \"'unit': 'teaspoon'\", \"'name': 'red pepper flakes'}\", \"{'quantity': '½'\", \"'unit': 'teaspoon'\", \"'name': 'ground black pepper'}\", \"{'quantity': '1'\", \"'unit': 'teaspoon'\", \"'name': 'salt'}\", \"{'quantity': '½'\", \"'unit': 'teaspoon'\", \"'name': 'hot pepper sauce'}\", \"{'quantity': '2'\", \"'unit': 'teaspoons'\", \"'name': 'Worcestershire sauce'}\", \"{'quantity': '1'\", \"'unit': 'teaspoon'\", \"'name': 'file powder'}\", \"{'quantity': '1 ¼'\", \"'unit': 'cups'\", \"'name': 'uncooked white rice'}\", \"{'quantity': '2 ½'\", \"'unit': 'cups'\", \"'name': 'chicken broth'}]\", \"[{'quantity': '4'\", \"'unit': ''\", \"'name': 'skinless\", \"boneless chicken breast halves - pounded to 1/2 inch thickness'}\", \"{'quantity': ''\", \"'unit': ''\", \"'name': 'salt and pepper to taste'}\", \"{'quantity': '2'\", \"'unit': 'tablespoons'\", \"'name': 'all-purpose flour'}\", \"{'quantity': '1'\", \"'unit': ''\", \"'name': 'egg\", \"beaten'}\", \"{'quantity': '1'\", \"'unit': 'cup'\", \"'name': 'panko bread crumbs'}\", \"{'quantity': '1'\", \"'unit': 'cup'\", \"'name': 'oil for frying\", \"or as needed'}]\", \"[{'quantity': '4'\", \"'unit': '(5 ounce)'\", \"'name': 'skinless\", \"boneless chicken breast halves'}\", \"{'quantity': '2'\", \"'unit': 'tablespoons'\", \"'name': 'olive oil'}\", \"{'quantity': '½'\", \"'unit': 'teaspoon'\", \"'name': 'coarse sea salt\", \"or to taste'}\", \"{'quantity': '1'\", \"'unit': 'pinch'\", '\\'name\\': \"Creole seasoning (such as Tony Chachere\\'s®)', 'or more to taste\"}', \"{'quantity': '1'\", \"'unit': 'tablespoon'\", \"'name': 'chicken broth\", \"or more to taste'}]\"]\n",
      "This is the word bank [{'name': \"[{'quantity': '2'\"}, {'name': \"'unit': 'pounds'\"}, {'name': \"'name': 'skinless\"}, {'name': \"boneless chicken breast halves'}\"}, {'name': \"{'quantity': '2'\"}, {'name': \"'unit': 'teaspoons'\"}, {'name': \"'name': 'salt'}\"}, {'name': \"{'quantity': '½'\"}, {'name': \"'unit': 'cup'\"}, {'name': \"'name': 'cooking oil'}\"}, {'name': \"{'quantity': '1 ½'\"}, {'name': \"'unit': 'cups'\"}, {'name': \"'name': 'chopped onion'}\"}, {'name': \"{'quantity': '1'\"}, {'name': \"'unit': 'tablespoon'\"}, {'name': \"'name': 'minced garlic'}\"}, {'name': \"{'quantity': '1 ½'\"}, {'name': \"'unit': 'teaspoons'\"}, {'name': \"'name': 'minced fresh ginger root'}\"}, {'name': \"{'quantity': '1'\"}, {'name': \"'unit': 'tablespoon'\"}, {'name': \"'name': 'curry powder'}\"}, {'name': \"{'quantity': '1'\"}, {'name': \"'unit': 'teaspoon'\"}, {'name': \"'name': 'ground cumin'}\"}, {'name': \"{'quantity': '1'\"}, {'name': \"'unit': 'teaspoon'\"}, {'name': \"'name': 'ground turmeric'}\"}, {'name': \"{'quantity': '1'\"}, {'name': \"'unit': 'teaspoon'\"}, {'name': \"'name': 'ground coriander'}\"}, {'name': \"{'quantity': '1'\"}, {'name': \"'unit': 'teaspoon'\"}, {'name': \"'name': 'cayenne pepper'}\"}, {'name': \"{'quantity': '1'\"}, {'name': \"'unit': 'tablespoon'\"}, {'name': \"'name': 'water'}\"}, {'name': \"{'quantity': '1'\"}, {'name': \"'unit': '(15 ounce) can'\"}, {'name': \"'name': 'crushed tomatoes'}\"}, {'name': \"{'quantity': '1'\"}, {'name': \"'unit': 'cup'\"}, {'name': \"'name': 'plain yogurt'}\"}, {'name': \"{'quantity': '1'\"}, {'name': \"'unit': 'tablespoon'\"}, {'name': \"'name': 'chopped fresh cilantro'}\"}, {'name': \"{'quantity': '1'\"}, {'name': \"'unit': 'teaspoon'\"}, {'name': \"'name': 'salt'}\"}, {'name': \"{'quantity': '½'\"}, {'name': \"'unit': 'cup'\"}, {'name': \"'name': 'water'}\"}, {'name': \"{'quantity': '1'\"}, {'name': \"'unit': 'teaspoon'\"}, {'name': \"'name': 'garam masala'}\"}, {'name': \"{'quantity': '1'\"}, {'name': \"'unit': 'tablespoon'\"}, {'name': \"'name': 'chopped fresh cilantro'}\"}, {'name': \"{'quantity': '1'\"}, {'name': \"'unit': 'tablespoon'\"}, {'name': \"'name': 'fresh lemon juice'}]\"}, {'name': \"[{'quantity': '4'\"}, {'name': \"'unit': 'cups'\"}, {'name': \"'name': 'water'}\"}, {'name': \"{'quantity': '2'\"}, {'name': \"'unit': 'cups'\"}, {'name': \"'name': 'white rice'}\"}, {'name': \"{'quantity': '⅔'\"}, {'name': \"'unit': 'cup'\"}, {'name': \"'name': 'soy sauce'}\"}, {'name': \"{'quantity': '¼'\"}, {'name': \"'unit': 'cup'\"}, {'name': \"'name': 'brown sugar'}\"}, {'name': \"{'quantity': '1'\"}, {'name': \"'unit': 'tablespoon'\"}, {'name': \"'name': 'cornstarch'}\"}, {'name': \"{'quantity': '1'\"}, {'name': \"'unit': 'tablespoon'\"}, {'name': \"'name': 'minced fresh ginger'}\"}, {'name': \"{'quantity': '1'\"}, {'name': \"'unit': 'tablespoon'\"}, {'name': \"'name': 'minced garlic'}\"}, {'name': \"{'quantity': '¼'\"}, {'name': \"'unit': 'teaspoon'\"}, {'name': \"'name': 'red pepper flakes'}\"}, {'name': \"{'quantity': '3'\"}, {'name': \"'unit': ''\"}, {'name': \"'name': 'skinless\"}, {'name': 'boneless chicken breast halves'}, {'name': \"thinly sliced'}\"}, {'name': \"{'quantity': '2'\"}, {'name': \"'unit': 'tablespoons'\"}, {'name': \"'name': 'sesame oil\"}, {'name': \"divided'}\"}, {'name': \"{'quantity': '1'\"}, {'name': \"'unit': 'head'\"}, {'name': \"'name': 'broccoli\"}, {'name': \"broken into florets'}\"}, {'name': \"{'quantity': '1'\"}, {'name': \"'unit': ''\"}, {'name': \"'name': 'onion\"}, {'name': \"cut into large chunks'}\"}, {'name': \"{'quantity': '1'\"}, {'name': \"'unit': 'cup'\"}, {'name': \"'name': 'sliced carrots'}\"}, {'name': \"{'quantity': '1'\"}, {'name': \"'unit': '(8 ounce) can'\"}, {'name': \"'name': 'sliced water chestnuts\"}, {'name': \"drained'}\"}, {'name': \"{'quantity': '1'\"}, {'name': \"'unit': ''\"}, {'name': \"'name': 'green bell pepper\"}, {'name': \"cut into matchsticks'}]\"}, {'name': \"[{'quantity': '2'\"}, {'name': \"'unit': 'tablespoons'\"}, {'name': \"'name': 'peanut oil\"}, {'name': \"divided'}\"}, {'name': \"{'quantity': '1'\"}, {'name': \"'unit': 'tablespoon'\"}, {'name': \"'name': 'Cajun seasoning'}\"}, {'name': \"{'quantity': '10'\"}, {'name': \"'unit': 'ounces'\"}, {'name': \"'name': 'andouille sausage\"}, {'name': \"sliced into rounds'}\"}, {'name': \"{'quantity': '1'\"}, {'name': \"'unit': 'pound'\"}, {'name': \"'name': 'boneless skinless chicken breasts\"}, {'name': \"cut into 1 inch pieces'}\"}, {'name': \"{'quantity': '1'\"}, {'name': \"'unit': ''\"}, {'name': \"'name': 'onion\"}, {'name': \"diced'}\"}, {'name': \"{'quantity': '1'\"}, {'name': \"'unit': 'small'\"}, {'name': \"'name': 'green bell pepper\"}, {'name': \"diced'}\"}, {'name': \"{'quantity': '2'\"}, {'name': \"'unit': 'stalks'\"}, {'name': \"'name': 'celery\"}, {'name': \"diced'}\"}, {'name': \"{'quantity': '3'\"}, {'name': \"'unit': 'cloves'\"}, {'name': \"'name': 'garlic\"}, {'name': \"minced'}\"}, {'name': \"{'quantity': '1'\"}, {'name': \"'unit': '(16 ounce) can'\"}, {'name': \"'name': 'crushed Italian tomatoes'}\"}, {'name': \"{'quantity': '½'\"}, {'name': \"'unit': 'teaspoon'\"}, {'name': \"'name': 'red pepper flakes'}\"}, {'name': \"{'quantity': '½'\"}, {'name': \"'unit': 'teaspoon'\"}, {'name': \"'name': 'ground black pepper'}\"}, {'name': \"{'quantity': '1'\"}, {'name': \"'unit': 'teaspoon'\"}, {'name': \"'name': 'salt'}\"}, {'name': \"{'quantity': '½'\"}, {'name': \"'unit': 'teaspoon'\"}, {'name': \"'name': 'hot pepper sauce'}\"}, {'name': \"{'quantity': '2'\"}, {'name': \"'unit': 'teaspoons'\"}, {'name': \"'name': 'Worcestershire sauce'}\"}, {'name': \"{'quantity': '1'\"}, {'name': \"'unit': 'teaspoon'\"}, {'name': \"'name': 'file powder'}\"}, {'name': \"{'quantity': '1 ¼'\"}, {'name': \"'unit': 'cups'\"}, {'name': \"'name': 'uncooked white rice'}\"}, {'name': \"{'quantity': '2 ½'\"}, {'name': \"'unit': 'cups'\"}, {'name': \"'name': 'chicken broth'}]\"}, {'name': \"[{'quantity': '4'\"}, {'name': \"'unit': ''\"}, {'name': \"'name': 'skinless\"}, {'name': \"boneless chicken breast halves - pounded to 1/2 inch thickness'}\"}, {'name': \"{'quantity': ''\"}, {'name': \"'unit': ''\"}, {'name': \"'name': 'salt and pepper to taste'}\"}, {'name': \"{'quantity': '2'\"}, {'name': \"'unit': 'tablespoons'\"}, {'name': \"'name': 'all-purpose flour'}\"}, {'name': \"{'quantity': '1'\"}, {'name': \"'unit': ''\"}, {'name': \"'name': 'egg\"}, {'name': \"beaten'}\"}, {'name': \"{'quantity': '1'\"}, {'name': \"'unit': 'cup'\"}, {'name': \"'name': 'panko bread crumbs'}\"}, {'name': \"{'quantity': '1'\"}, {'name': \"'unit': 'cup'\"}, {'name': \"'name': 'oil for frying\"}, {'name': \"or as needed'}]\"}, {'name': \"[{'quantity': '4'\"}, {'name': \"'unit': '(5 ounce)'\"}, {'name': \"'name': 'skinless\"}, {'name': \"boneless chicken breast halves'}\"}, {'name': \"{'quantity': '2'\"}, {'name': \"'unit': 'tablespoons'\"}, {'name': \"'name': 'olive oil'}\"}, {'name': \"{'quantity': '½'\"}, {'name': \"'unit': 'teaspoon'\"}, {'name': \"'name': 'coarse sea salt\"}, {'name': \"or to taste'}\"}, {'name': \"{'quantity': '1'\"}, {'name': \"'unit': 'pinch'\"}, {'name': '\\'name\\': \"Creole seasoning (such as Tony Chachere\\'s®)'}, {'name': 'or more to taste\"}'}, {'name': \"{'quantity': '1'\"}, {'name': \"'unit': 'tablespoon'\"}, {'name': \"'name': 'chicken broth\"}, {'name': \"or more to taste'}]\"}]\n"
     ]
    },
    {
     "ename": "TypeError",
     "evalue": "unhashable type: 'dict'",
     "output_type": "error",
     "traceback": [
      "\u001b[0;31m---------------------------------------------------------------------------\u001b[0m",
      "\u001b[0;31mTypeError\u001b[0m                                 Traceback (most recent call last)",
      "Cell \u001b[0;32mIn[2], line 22\u001b[0m\n\u001b[1;32m     18\u001b[0m \u001b[38;5;28mprint\u001b[39m(\u001b[38;5;124m\"\u001b[39m\u001b[38;5;124mThis is the word bank\u001b[39m\u001b[38;5;124m\"\u001b[39m, word_bank)\n\u001b[1;32m     20\u001b[0m \u001b[38;5;28;01mfrom\u001b[39;00m\u001b[38;5;250m \u001b[39m\u001b[38;5;21;01mcollections\u001b[39;00m\u001b[38;5;250m \u001b[39m\u001b[38;5;28;01mimport\u001b[39;00m Counter \n\u001b[0;32m---> 22\u001b[0m word_frequency \u001b[38;5;241m=\u001b[39m \u001b[43mCounter\u001b[49m\u001b[43m(\u001b[49m\u001b[43mword_bank\u001b[49m\u001b[43m)\u001b[49m\n\u001b[1;32m     23\u001b[0m \u001b[38;5;28mprint\u001b[39m(\u001b[38;5;124m\"\u001b[39m\u001b[38;5;124mThis is the word frequency\u001b[39m\u001b[38;5;124m\"\u001b[39m, word_frequency)\n",
      "File \u001b[0;32m~/opt/anaconda3/lib/python3.9/collections/__init__.py:593\u001b[0m, in \u001b[0;36mCounter.__init__\u001b[0;34m(self, iterable, **kwds)\u001b[0m\n\u001b[1;32m    582\u001b[0m \u001b[38;5;250m\u001b[39m\u001b[38;5;124;03m'''Create a new, empty Counter object.  And if given, count elements\u001b[39;00m\n\u001b[1;32m    583\u001b[0m \u001b[38;5;124;03mfrom an input iterable.  Or, initialize the count from another mapping\u001b[39;00m\n\u001b[1;32m    584\u001b[0m \u001b[38;5;124;03mof elements to their counts.\u001b[39;00m\n\u001b[0;32m   (...)\u001b[0m\n\u001b[1;32m    590\u001b[0m \n\u001b[1;32m    591\u001b[0m \u001b[38;5;124;03m'''\u001b[39;00m\n\u001b[1;32m    592\u001b[0m \u001b[38;5;28msuper\u001b[39m()\u001b[38;5;241m.\u001b[39m\u001b[38;5;21m__init__\u001b[39m()\n\u001b[0;32m--> 593\u001b[0m \u001b[38;5;28;43mself\u001b[39;49m\u001b[38;5;241;43m.\u001b[39;49m\u001b[43mupdate\u001b[49m\u001b[43m(\u001b[49m\u001b[43miterable\u001b[49m\u001b[43m,\u001b[49m\u001b[43m \u001b[49m\u001b[38;5;241;43m*\u001b[39;49m\u001b[38;5;241;43m*\u001b[39;49m\u001b[43mkwds\u001b[49m\u001b[43m)\u001b[49m\n",
      "File \u001b[0;32m~/opt/anaconda3/lib/python3.9/collections/__init__.py:679\u001b[0m, in \u001b[0;36mCounter.update\u001b[0;34m(self, iterable, **kwds)\u001b[0m\n\u001b[1;32m    677\u001b[0m             \u001b[38;5;28msuper\u001b[39m()\u001b[38;5;241m.\u001b[39mupdate(iterable)\n\u001b[1;32m    678\u001b[0m     \u001b[38;5;28;01melse\u001b[39;00m:\n\u001b[0;32m--> 679\u001b[0m         \u001b[43m_count_elements\u001b[49m\u001b[43m(\u001b[49m\u001b[38;5;28;43mself\u001b[39;49m\u001b[43m,\u001b[49m\u001b[43m \u001b[49m\u001b[43miterable\u001b[49m\u001b[43m)\u001b[49m\n\u001b[1;32m    680\u001b[0m \u001b[38;5;28;01mif\u001b[39;00m kwds:\n\u001b[1;32m    681\u001b[0m     \u001b[38;5;28mself\u001b[39m\u001b[38;5;241m.\u001b[39mupdate(kwds)\n",
      "\u001b[0;31mTypeError\u001b[0m: unhashable type: 'dict'"
     ]
    }
   ],
   "source": [
    "import pandas as pd\n",
    "\n",
    "recipe_data = pd.read_csv(\"data/test_recipes.csv\").head()\n",
    "print(recipe_data)\n",
    "\n",
    "column_name = \"Ingredients\"\n",
    "\n",
    "word_bank = []\n",
    "\n",
    "for index, row in recipe_data.iterrows():\n",
    "    ingredients = str(row[column_name]).split(', ')\n",
    "   \n",
    "    for ingredient in ingredients:\n",
    "        word_bank.append({'name': ingredient})\n",
    "    \n",
    "names = [item['name'] for item in word_bank]\n",
    "print(\"This is the name\", names)\n",
    "print(\"This is the word bank\", word_bank)\n",
    "\n",
    "from collections import Counter \n",
    "\n",
    "word_frequency = Counter(word_bank)\n",
    "print(\"This is the word frequency\", word_frequency)\n"
   ]
  }
 ],
 "metadata": {
  "kernelspec": {
   "display_name": ".venv",
   "language": "python",
   "name": "python3"
  },
  "language_info": {
   "codemirror_mode": {
    "name": "ipython",
    "version": 3
   },
   "file_extension": ".py",
   "mimetype": "text/x-python",
   "name": "python",
   "nbconvert_exporter": "python",
   "pygments_lexer": "ipython3",
   "version": "3.9.12"
  }
 },
 "nbformat": 4,
 "nbformat_minor": 2
}
